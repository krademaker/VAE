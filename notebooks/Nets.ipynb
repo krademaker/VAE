{
 "cells": [
  {
   "cell_type": "code",
   "execution_count": 2,
   "id": "c4ee24de",
   "metadata": {},
   "outputs": [],
   "source": [
    "# DO NOT REMOVE!\n",
    "import os\n",
    "\n",
    "import numpy as np\n",
    "import matplotlib.pyplot as plt\n",
    "\n",
    "import torch\n",
    "\n",
    "from torch.utils.data import Dataset, DataLoader\n",
    "import torch.nn as nn\n",
    "import torch.nn.functional as F\n",
    "\n",
    "import torchvision\n",
    "from torchvision.datasets import MNIST"
   ]
  },
  {
   "cell_type": "code",
   "execution_count": 4,
   "id": "58b65bdb",
   "metadata": {},
   "outputs": [],
   "source": [
    "# D is gehardcode, D = 28. Verder weet ik niet of deze nets werken met trainen, maar\n",
    "# de shapes kloppen in elk geval wel.\n",
    "# inspiratie: https://towardsdatascience.com/building-a-convolutional-vae-in-pytorch-a0f54c947f71\n",
    "L = 4\n",
    "encoder = nn.Sequential(nn.Conv2d(1, 16, kernel_size = 3, stride = 1, padding = 1), nn.ReLU(), # size: batch, 1, 28, 28, \n",
    "                        nn.Conv2d(16, 32, kernel_size = 3, stride = 1, padding = 1), nn.ReLU(),  nn.Flatten(1)\n",
    "                       ,nn.Linear(32*28*28, 2 * L))\n",
    "\n",
    "decoder = nn.Sequential(nn.Linear(L, 32*28*28), nn.ReLU(), # output shape: (batch, 32*28*28)\n",
    "                        nn.Unflatten(1, (32, 28, 28)),  # output shape: (batch, 32, 28, 28)\n",
    "                        nn.ConvTranspose2d(32, 64, kernel_size = 3, padding = 1), nn.ReLU(), #output (batch, 64, 28, 28)\n",
    "                        nn.ConvTranspose2d(64, 128, kernel_size = 3, padding = 1), nn.ReLU(),#output (batch, 128, 28, 28)\n",
    "                        nn.ConvTranspose2d(128, 256, kernel_size = 3, padding = 1), nn.ReLU(), #output (batch, 256, 28, 28)\n",
    "                        nn.Flatten(2), nn.Softmax(dim = -1)) # output (batch, 256, 28*28)\n",
    "\n",
    "\n",
    "num_vals = 256 \n",
    "L = 4 # number of latent variables\n",
    "batch = 2\n",
    "images = torch.randn(2, 1, 28, 28)\n",
    "Z = torch.randn(batch, L)\n",
    "\n",
    "encoder(images).shape # test if encoder works\n",
    "p= decoder(Z).transpose(1,2).reshape(-1, num_vals) # test if decoder works and reshape to (b*28*28)\n",
    "p.shape\n",
    "x_hat = torch.multinomial(p, num_samples = 1).view(batch, 28,28) # sample using probabilities p and torch.multinomial\n"
   ]
  },
  {
   "cell_type": "code",
   "execution_count": null,
   "id": "9764ec53",
   "metadata": {},
   "outputs": [],
   "source": []
  }
 ],
 "metadata": {
  "kernelspec": {
   "display_name": "base",
   "language": "python",
   "name": "python3"
  },
  "language_info": {
   "codemirror_mode": {
    "name": "ipython",
    "version": 3
   },
   "file_extension": ".py",
   "mimetype": "text/x-python",
   "name": "python",
   "nbconvert_exporter": "python",
   "pygments_lexer": "ipython3",
   "version": "3.8.13 (default, Mar 28 2022, 06:59:08) [MSC v.1916 64 bit (AMD64)]"
  },
  "vscode": {
   "interpreter": {
    "hash": "4d9defa72c2715dab9f7f172572cd30a1ab1a2083462d32ef96aadb7c6e0c73b"
   }
  }
 },
 "nbformat": 4,
 "nbformat_minor": 5
}
