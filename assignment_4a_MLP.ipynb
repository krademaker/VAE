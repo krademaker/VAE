{
  "cells": [
    {
      "cell_type": "markdown",
      "metadata": {
        "id": "view-in-github",
        "colab_type": "text"
      },
      "source": [
        "<a href=\"https://colab.research.google.com/github/krademaker/VAE/blob/main/assignment_4a_MLP.ipynb\" target=\"_parent\"><img src=\"https://colab.research.google.com/assets/colab-badge.svg\" alt=\"Open In Colab\"/></a>"
      ]
    },
    {
      "cell_type": "markdown",
      "metadata": {
        "id": "aJ_pmgxvGur9"
      },
      "source": [
        "# Assignment 4a - Variational Auto-Encoders\n",
        "## Deep Learning Course - Vrije Universiteit Amsterdam, 2022\n",
        "#### Daniel Versluis (dvs243), Koen Rademaker (krr460) en Janneke Hulsen (vhn870)"
      ]
    },
    {
      "cell_type": "markdown",
      "metadata": {
        "id": "mEneMITS2agU"
      },
      "source": [
        "#### Instructions on how to use this notebook:\n",
        "\n",
        "This notebook is hosted on Google Colab. To be able to work on it, you have to create your own copy. Go to *File* and select *Save a copy in Drive*.\n",
        "\n",
        "You can also avoid using Colab entirely, and download the notebook to run it on your own machine. If you choose this, go to *File* and select *Download .ipynb*.\n",
        "\n",
        "The advantage of using Colab is that you can use a GPU. You can complete this assignment with a CPU, but it will take a bit longer. Furthermore, we encourage you to train using the GPU not only for faster training, but also to get experience with this setting. This includes moving models and tensors to the GPU and back. This experience is very valuable because for various models and large datasets (like large CNNs for ImageNet, or Transformer models trained on Wikipedia), training on GPU is the only feasible way.\n",
        "\n",
        "The default Colab runtime does not have a GPU. To change this, go to *Runtime - Change runtime type*, and select *GPU* as the hardware accelerator. The GPU that you get changes according to what resources are available at the time, and its memory can go from a 5GB, to around 18GB if you are lucky. If you are curious, you can run the following in a code cell to check:\n",
        "\n",
        "```sh\n",
        "!nvidia-smi\n",
        "```\n",
        "\n",
        "Note that despite the name, Google Colab does  not support collaborative work without issues. When two or more people edit the notebook concurrently, only one version will be saved. You can choose to do group programming with one person sharing the screen with the others, or make multiple copies of the notebook to work concurrently.\n",
        "\n",
        "**Submission:** Upload your notebook in .ipynb format to Canvas. The code and answers to the questions in the notebook are sufficient, no separate report is expected. "
      ]
    },
    {
      "cell_type": "code",
      "execution_count": null,
      "metadata": {
        "colab": {
          "base_uri": "https://localhost:8080/"
        },
        "id": "lBgoJIpdLI2Y",
        "outputId": "a45bddd8-0209-45fc-99ea-a283e319b474"
      },
      "outputs": [
        {
          "output_type": "stream",
          "name": "stdout",
          "text": [
            "Tue Dec 20 16:33:30 2022       \n",
            "+-----------------------------------------------------------------------------+\n",
            "| NVIDIA-SMI 460.32.03    Driver Version: 460.32.03    CUDA Version: 11.2     |\n",
            "|-------------------------------+----------------------+----------------------+\n",
            "| GPU  Name        Persistence-M| Bus-Id        Disp.A | Volatile Uncorr. ECC |\n",
            "| Fan  Temp  Perf  Pwr:Usage/Cap|         Memory-Usage | GPU-Util  Compute M. |\n",
            "|                               |                      |               MIG M. |\n",
            "|===============================+======================+======================|\n",
            "|   0  Tesla T4            Off  | 00000000:00:04.0 Off |                    0 |\n",
            "| N/A   39C    P0    25W /  70W |      0MiB / 15109MiB |      0%      Default |\n",
            "|                               |                      |                  N/A |\n",
            "+-------------------------------+----------------------+----------------------+\n",
            "                                                                               \n",
            "+-----------------------------------------------------------------------------+\n",
            "| Processes:                                                                  |\n",
            "|  GPU   GI   CI        PID   Type   Process name                  GPU Memory |\n",
            "|        ID   ID                                                   Usage      |\n",
            "|=============================================================================|\n",
            "|  No running processes found                                                 |\n",
            "+-----------------------------------------------------------------------------+\n"
          ]
        }
      ],
      "source": [
        "!nvidia-smi"
      ]
    },
    {
      "cell_type": "markdown",
      "metadata": {
        "id": "tsdc7fDp40rQ"
      },
      "source": [
        "## Introduction\n",
        "\n",
        "In this assignment, we are going to implement a Variational Auto-Encoder (VAE). A VAE is a likelihood-based deep generative model that consists of a stochastic encoder (a variational posterior over latent variables), a stochastic decoder, and a marginal distribution over latent variables (a.k.a. a prior). The model was originally proposed in two concurrent papers:\n",
        "- [Kingma, D. P., & Welling, M. (2013). Auto-encoding variational bayes. arXiv preprint arXiv:1312.6114.](https://arxiv.org/abs/1312.6114)\n",
        "- [Rezende, Danilo Jimenez, Shakir Mohamed, and Daan Wierstra. \"Stochastic backpropagation and approximate inference in deep generative models.\" International conference on machine learning. PMLR, 2014.](https://proceedings.mlr.press/v32/rezende14.html)\n",
        "\n",
        "You can read more about VAEs in Chapter 4 of the following book:\n",
        "- [Tomczak, J.M., \"Deep Generative Modeling\", Springer, 2022](https://link.springer.com/book/10.1007/978-3-030-93158-2)\n",
        "\n",
        "In particular, the goals of this assignment are the following:\n",
        "\n",
        "- Understand how VAEs are formulated\n",
        "- Implement components of VAEs using PyTorch\n",
        "- Train and evaluate a model for image data"
      ]
    },
    {
      "cell_type": "markdown",
      "metadata": {
        "id": "RvsuVNczG6pP"
      },
      "source": [
        "### Theory behind VAEs\n",
        "\n",
        "VAEs are latent variable models trained with variational inference. In general, the latent variable models define the following generative process:\n",
        "\\begin{align}\n",
        "1.\\ & \\mathbf{z} \\sim p_{\\lambda}(\\mathbf{z}) \\\\\n",
        "2.\\ & \\mathbf{x} \\sim p_{\\theta}(\\mathbf{x}|\\mathbf{z})\n",
        "\\end{align}\n",
        "\n",
        "In plain words, we assume that for observable data $\\mathbf{x}$, there are some latent (hidden) factors $\\mathbf{z}$. Then, the training objective is log-likelihood function of the following form:\n",
        "$$\n",
        "\\log p_{\\vartheta}(\\mathbf{x})=\\log \\int p_\\theta(\\mathbf{x} \\mid \\mathbf{z}) p_\\lambda(\\mathbf{z}) \\mathrm{d} \\mathbf{z} .\n",
        "$$\n",
        "\n",
        "The problem here is the intractability of the integral if the dependencies between random variables $\\mathbf{x}$ and $\\mathbf{z}$ are non-linear and/or the distributions are non-Gaussian.\n",
        "\n",
        "By introducing variational posteriors $q_{\\phi}(\\mathbf{z}|\\mathbf{x})$, we get the following lower bound (the Evidence Lower Bound, ELBO):\n",
        "$$\n",
        "\\log p_{\\vartheta}(\\mathbf{x}) \\geq \\mathbb{E}_{\\mathbf{z} \\sim q_\\phi(\\mathbf{z} \\mid \\mathbf{x})}\\left[\\log p_\\theta(\\mathbf{x} \\mid \\mathbf{z})\\right]-\\mathrm{KL}\\left(q_\\phi(\\mathbf{z} \\mid \\mathbf{x}) \\| p_\\lambda(\\mathbf{z})\\right) .\n",
        "$$\n",
        "\n",
        "Note that we want to *maximize* this objective, therefore, in the code you are going to have to implement NELBO (negative ELBO) as a loss function (i.e., a minimization task). "
      ]
    },
    {
      "cell_type": "markdown",
      "metadata": {
        "id": "suzhlbWqxtD9"
      },
      "source": [
        "## IMPORTS"
      ]
    },
    {
      "cell_type": "code",
      "execution_count": null,
      "metadata": {
        "id": "BjxkigYLxpB7"
      },
      "outputs": [],
      "source": [
        "# DO NOT REMOVE!\n",
        "import os\n",
        "\n",
        "import numpy as np\n",
        "import matplotlib.pyplot as plt\n",
        "\n",
        "import torch\n",
        "\n",
        "from torch.utils.data import Dataset, DataLoader\n",
        "import torch.nn as nn\n",
        "import torch.nn.functional as F\n",
        "\n",
        "import torchvision\n",
        "from torchvision.datasets import MNIST"
      ]
    },
    {
      "cell_type": "code",
      "execution_count": null,
      "metadata": {
        "colab": {
          "base_uri": "https://localhost:8080/"
        },
        "id": "Cm23hRm6CqGh",
        "outputId": "b6c53136-3e22-4d44-cb41-241b83192e0f"
      },
      "outputs": [
        {
          "output_type": "stream",
          "name": "stdout",
          "text": [
            "The available device is cuda\n"
          ]
        }
      ],
      "source": [
        "# Check if GPU is available and determine the device\n",
        "if torch.cuda.is_available():\n",
        "  device = 'cuda'\n",
        "else:\n",
        "  device = 'cpu'\n",
        "\n",
        "print(f'The available device is {device}')"
      ]
    },
    {
      "cell_type": "code",
      "execution_count": null,
      "metadata": {
        "colab": {
          "base_uri": "https://localhost:8080/"
        },
        "id": "81CxONpmMulC",
        "outputId": "f5939d7b-77a8-42d7-9b47-17608c92c424"
      },
      "outputs": [
        {
          "output_type": "stream",
          "name": "stdout",
          "text": [
            "Mounted at /content/gdrive\n"
          ]
        }
      ],
      "source": [
        "# mount drive: WE NEED IT FOR SAVING IMAGES!\n",
        "from google.colab import drive\n",
        "drive.mount('/content/gdrive')"
      ]
    },
    {
      "cell_type": "code",
      "execution_count": null,
      "metadata": {
        "id": "OoPb92zNM4UY"
      },
      "outputs": [],
      "source": [
        "# PLEASE CHANGE IT TO YOUR OWN GOOGLE DRIVE!\n",
        "images_dir = '/content/gdrive/My Drive/Colab Notebooks/Results/'"
      ]
    },
    {
      "cell_type": "markdown",
      "metadata": {
        "id": "I3zs31tOyCmq"
      },
      "source": [
        "## Auxiliary functions"
      ]
    },
    {
      "cell_type": "markdown",
      "metadata": {
        "id": "DF0agzL7tDHK"
      },
      "source": [
        "Let us define some useful log-distributions:"
      ]
    },
    {
      "cell_type": "code",
      "execution_count": null,
      "metadata": {
        "id": "LIBNVRNJtHSd"
      },
      "outputs": [],
      "source": [
        "# DO NOT REMOVE\n",
        "PI = torch.from_numpy(np.asarray(np.pi))\n",
        "EPS = 1.e-5\n",
        "\n",
        "\n",
        "def log_categorical(x, p, num_classes=256, reduction=None, dim=None):\n",
        "    x_one_hot = F.one_hot(x.long(), num_classes=num_classes)\n",
        "    log_p = x_one_hot * torch.log(torch.clamp(p, EPS, 1. - EPS))\n",
        "    if reduction == 'avg':\n",
        "        return torch.mean(log_p, dim)\n",
        "    elif reduction == 'sum':\n",
        "        return torch.sum(log_p, dim)\n",
        "    else:\n",
        "        return log_p\n",
        "\n",
        "\n",
        "def log_bernoulli(x, p, reduction=None, dim=None):\n",
        "    pp = torch.clamp(p, EPS, 1. - EPS)\n",
        "    log_p = x * torch.log(pp) + (1. - x) * torch.log(1. - pp)\n",
        "    if reduction == 'avg':\n",
        "        return torch.mean(log_p, dim)\n",
        "    elif reduction == 'sum':\n",
        "        return torch.sum(log_p, dim)\n",
        "    else:\n",
        "        return log_p\n",
        "\n",
        "\n",
        "def log_normal_diag(x, mu, log_var, reduction=None, dim=None):\n",
        "    D = x.shape[1]\n",
        "    log_p = -0.5 * D * torch.log(2. * PI) - 0.5 * log_var - 0.5 * torch.exp(-log_var) * (x - mu)**2.\n",
        "    if reduction == 'avg':\n",
        "        return torch.mean(log_p, dim)\n",
        "    elif reduction == 'sum':\n",
        "        return torch.sum(log_p, dim)\n",
        "    else:\n",
        "        return log_p\n",
        "\n",
        "\n",
        "def log_standard_normal(x, reduction=None, dim=None):\n",
        "    D = x.shape[1]\n",
        "    log_p = -0.5 * D * torch.log(2. * PI) - 0.5 * x**2.\n",
        "    if reduction == 'avg':\n",
        "        return torch.mean(log_p, dim)\n",
        "    elif reduction == 'sum':\n",
        "        return torch.sum(log_p, dim)\n",
        "    else:\n",
        "        return log_p"
      ]
    },
    {
      "cell_type": "markdown",
      "metadata": {
        "id": "Q2LLOs0kn7iw"
      },
      "source": [
        "## Implementing VAEs\n",
        "\n",
        "The goal of this assignment is to implement four classes:\n",
        "- `Encoder`: this class implements the encoder (variational posterior), $q_{\\phi}(\\mathbf{z}|\\mathbf{x})$.\n",
        "- `Decoder`: this class implements the decoded (the conditional likelihood), $p_{\\theta}(\\mathbf{x}|\\mathbf{z})$.\n",
        "- `Prior`: this class implements the marginal over latents (the prior), $p_{\\lambda}(\\mathbf{z})$.\n",
        "- `VAE`: this class combines all components."
      ]
    },
    {
      "cell_type": "markdown",
      "metadata": {
        "id": "AnziXXLPJhp6"
      },
      "source": [
        "#### Question 0: (3 pt) \n",
        "**Fully-connected Neural Networks (MLPs) or Convolutional Neural Networks**\n",
        "\n",
        "This is not a real question but rather a comment. You are asked to implement your VAE using fully connected neural networks (MLPs) or convolutional neural networks (ConvNets). \n",
        "\n",
        "There is a difference in grading of this assignment based on your decision:\n",
        "- **If you decide to implement your VAE with MLPs and the model works properly, you get 1 pt.**\n",
        "- **If you decide to implement your VAE with ConvNets and the model works properly, you get 3 pts.**"
      ]
    },
    {
      "cell_type": "markdown",
      "metadata": {
        "id": "7cXhOwKAzW6Z"
      },
      "source": [
        "### Encoder\n",
        "We start with `Encoder`. Please remember that we assume the Gaussian variational posterior with a diagonal covariance matrix.\n",
        "\n",
        "Feel free to add other methods to the class as well as arguments to the class initialization."
      ]
    },
    {
      "cell_type": "markdown",
      "source": [
        "COMMENT or the code presented in this assignment, we refer to the code in chapter 4.3.5 of Deep Generative Modelling by Tomczak (2021). \n",
        "[Tomczak, J.M., \"Deep Generative Modeling\", Springer, 2022](https://link.springer.com/book/10.1007/978-3-030-93158-2)"
      ],
      "metadata": {
        "id": "ajxFCfffZ-DT"
      }
    },
    {
      "cell_type": "code",
      "execution_count": null,
      "metadata": {
        "id": "MrwQXSuEoFfH"
      },
      "outputs": [],
      "source": [
        "# YOUR CODE GOES HERE\n",
        "# NOTE: The class must containt the following functions: \n",
        "# (i) reparameterization\n",
        "# (ii) sample\n",
        "# Moreover, forward must return the log-probability of variational posterior for given x, i.e., log q(z|x)\n",
        "\n",
        "class Encoder(nn.Module):\n",
        "    def __init__(self, encoder_net):\n",
        "        # The init of the encoder network.\n",
        "        super(Encoder, self).__init__()\n",
        "        self.encoder = encoder_net\n",
        "        \n",
        "    # The reparameterization trick for Gaussians.\n",
        "    @staticmethod\n",
        "    def reparameterization(mu, log_var):\n",
        "        # The formula is the following: # z = mu + std ∗ epsilon\n",
        "        # epsilon ~ Normal(0,1)\n",
        "        \n",
        "        # First, we need to get std from log−variance.\n",
        "        std = torch.exp(0.5*log_var)\n",
        "        \n",
        "        # Second, we sample epsilon from Normal(0,1).\n",
        "        eps = torch.randn_like(std)\n",
        "        \n",
        "        # The final output\n",
        "        return mu + std * eps\n",
        "    \n",
        "    # This function implements the output of the encoder network (i.e., parameters of a Gaussian).\n",
        "    def encode(self, x):\n",
        "        # First, we calculate the output of the encoder network of size 2M.\n",
        "        h_e = self.encoder(x)\n",
        "        # Second, we must divide the output to the mean and the log−variance.\n",
        "        mu_e, log_var_e = torch.chunk(h_e, 2, dim=1) # TODO error\n",
        "        return mu_e , log_var_e\n",
        "    \n",
        "    # Sampling procedure.\n",
        "    def sample(self, x=None, mu_e=None, log_var_e=None):\n",
        "        \"\"\"\n",
        "        Sample from the encoder. \n",
        "        If x is given (not equal to None), then copmute variational posterior distribution q(z|x) and sample from it.\n",
        "        Otherwise, use `mu_e` and `log_var_e` as parameter of the variational posterior and sample from it.\n",
        "\n",
        "        x: torch.tensor, with dimensionality (mini-batch, x_dim)\n",
        "             a mini-batch of data points\n",
        "        mu_e: torch.tensor, with dimensionality (mini-batch, x_dim)\n",
        "             mean vector of the variational posterior\n",
        "        log_var_e: torch.tensor, with dimensionality (mini-batch, x_dim)\n",
        "             log variance of the variational posterior\n",
        "        return: z: torch.tensor, with dimensionality (mini-batch, z_dim)\n",
        "        \"\"\"\n",
        "        #If we don’t provide a mean and a log−variance, we must first calculate it:\n",
        "        if (mu_e is None) and (log_var_e is None):\n",
        "            mu_e , log_var_e = self.encode(x)\n",
        "        # Or the final sample\n",
        "        else:\n",
        "        # Otherwise, we can simply apply the reparameterization trick!\n",
        "            if (mu_e is None) or (log_var_e is None):\n",
        "                raise ValueError('mu and log_var cannot be None')\n",
        "        z = self.reparameterization(mu_e, log_var_e)\n",
        "        return z\n",
        "    \n",
        "    # This function calculates the log−probability that is later used for calculating the ELBO.\n",
        "    # log q(z|x)\n",
        "    def log_prob(self, x=None, mu_e=None, log_var_e=None, z=None):\n",
        "        # If we provide x alone, then we can calculate a corresponding sample.\n",
        "        if x is not None:\n",
        "            mu_e, log_var_e = self.encode(x)\n",
        "            z = self.sample(mu_e=mu_e, log_var_e=log_var_e)\n",
        "        else:\n",
        "        # Otherwise, we should provide mu, log−var and z.\n",
        "            if (mu_e is None) or (log_var_e is None) or (z is None):\n",
        "                raise ValueError('mu, log_var and z cannot be None')\n",
        "        return log_normal_diag(z, mu_e, log_var_e)\n",
        "    \n",
        "    # PyTorch forward pass: it is either log−probability (by default) or sampling.\n",
        "    def forward(self, x, type = \"log_prob\"):\n",
        "        \"\"\"\n",
        "        Compute log-probability of variational posterior for given x, i.e., log q(z|x)\n",
        "        x: torch.tensor, with dimensionality (mini-batch, x_dim)\n",
        "             a mini-batch of data points\n",
        "        \"\"\"\n",
        "        assert type in [\"encode\", \"log_prob\"], 'Type can be either encode or log_prob'\n",
        "        if type == \"log_prob\":\n",
        "            return self.log_prob(x)\n",
        "        else:\n",
        "            return self.sample(x)"
      ]
    },
    {
      "cell_type": "markdown",
      "metadata": {
        "id": "8XVlH5OUzdgJ"
      },
      "source": [
        "Please answer the following questions:"
      ]
    },
    {
      "cell_type": "markdown",
      "metadata": {
        "id": "D1BNAH02zjjt"
      },
      "source": [
        "\n",
        "#### Question 1 (0.5 pt)\n",
        "\n",
        "Please explain the reparameterization trick and provide a mathematical formula."
      ]
    },
    {
      "cell_type": "markdown",
      "metadata": {
        "id": "UlxYq7-gzo_o"
      },
      "source": [
        "ANSWER:\n",
        "\n",
        "VAEs learn to predict the mean $\\mu$ and the standard deviation $\\sigma$ of a Gaussian distribution to generate sample $z$ from a parameterized distribution. The decoder then decodes sample $z$. However, this sampling operation is not differentiable. Additionally, if we use sample $z$ from $q\\phi(z|x)$ for the ELBO and calculate gradients to update the parameters of a neural network, there may be a large variance of the gradient. The reparameterization trick solves this. The essence of this trick is to move the stochasticity to independent random variables by reparameterizing the Gaussian distribution. The predictions are separated from the stochastic sampling element.\n",
        "\n",
        "For a Gaussian distribution, the noise is considered a standard normal distribution: as a Gaussian with mean 0 and variance 1. Given Gaussian random variable $z$ with mean $\\mu$ and variance $\\sigma^2$, and independent random variable $\\epsilon \\sim 𝒩(\\epsilon | 0,1)$, then the following holds:\n",
        "\n",
        "$z = \\mu + \\sigma \\cdotp \\epsilon$.\n",
        "\n",
        "Here, we use a fixed source of noise $\\epsilon$ where we can sample from. When sampling $\\epsilon$ from the standard Gaussian and applying the transformation from above, we obtain a sample from $𝒩 (z|\\mu, \\sigma)$.\n",
        "\n",
        "The noise term is no longer parameterized by the model. In this way, the gradient is calculated with respect to a deterministic function instead of a stochastic element. The gradient path goes through a non-stochastic node. Hence, the sampling operation is made differentiable without large variance."
      ]
    },
    {
      "cell_type": "markdown",
      "metadata": {
        "id": "HpRgXdtBzt3-"
      },
      "source": [
        "#### Question 2 (0.25 pt)\n",
        "\n",
        "Please write down mathematically the log-probability of the encoder (variational posterior)."
      ]
    },
    {
      "cell_type": "markdown",
      "metadata": {
        "id": "ET-mMAg10Ewv"
      },
      "source": [
        "ANSWER:\n",
        "\n",
        "The log-probability of the encoder/variational posterior is:\n",
        "\n",
        "$\\log q_\\phi(z|x)$ \n",
        "\n",
        "For the variational posterior, $z$ is sampled from a multivariate Gaussian with mean $\\mu_\\phi$ and a diagonal covariance matrix $\\sigma_\\phi^2$:\n",
        "\n",
        "$q_\\phi(z|x) = 𝒩(z|\\mu_\\phi(x), \\mathrm{diag}[\\sigma^2_\\phi(x)])$\n",
        "\n",
        "where $\\mu_\\phi(x)$ and $\\sigma^2_\\phi(x)$ are given by a neural network."
      ]
    },
    {
      "cell_type": "markdown",
      "metadata": {
        "id": "nhNTy5mn0XDT"
      },
      "source": [
        "### Decoder\n",
        "\n",
        "The decoder is the conditional likelihood, i.e., $p(\\mathbf{x}|\\mathbf{z})$. Please remember that we must decide on the form of the distribution (e.g., Bernoulli, Gaussian, Categorical). Please discuss it with a TA or a lecturer if you are in doubt."
      ]
    },
    {
      "cell_type": "code",
      "execution_count": null,
      "metadata": {
        "id": "9vTmKHwrpUVa"
      },
      "outputs": [],
      "source": [
        "# YOUR CODE GOES HERE\n",
        "# NOTE: The class must containt the following function: \n",
        "# (i) sample\n",
        "# Moreover, forward must return the log-probability of the conditional likelihood function for given z, i.e., log p(x|z)\n",
        "\n",
        "class Decoder(nn.Module):\n",
        "    def __init__(self, decoder_net, distribution = \"categorical\", num_vals = None):\n",
        "        super(Decoder, self).__init__()\n",
        "\n",
        "        # The decoder network.\n",
        "        self.decoder = decoder_net\n",
        "        # The distribution used for the decoder, categorical by default.\n",
        "        self.distribution = distribution\n",
        "        # The number of possible values. This is important for the categorical distribution.\n",
        "        self.num_vals = num_vals\n",
        "\n",
        "    # This function calculates parameters of the likelihood function p(x|z).\n",
        "    def decode(self, z):\n",
        "        # First, we apply the decoder network.\n",
        "        h_d = self.decoder(z)\n",
        "\n",
        "        # In this example, we use only the categorical distribution...\n",
        "        if self.distribution == \"categorical\":\n",
        "        # We save the shapes: batch size.\n",
        "            b = h_d.shape[0]\n",
        "        # and the dimensionality of x.\n",
        "            d = h_d.shape[1]//self.num_vals\n",
        "        # Then we reshape to (Batch size, Dimensionality, Number of Values).\n",
        "            h_d = h_d.view(b , d, self.num_vals)\n",
        "        # To get probabilities, we apply softmax.\n",
        "            mu_d = torch.softmax(h_d, 2)\n",
        "            return [mu_d]\n",
        "\n",
        "        elif self.distribution == \"bernoulli\":\n",
        "        # In the Bernoulli case, we have x_d \\in {0,1}.\n",
        "        # Therefore, it is enough to output a single probability, because\n",
        "        # p(x_d=1|z) = \\theta and p(x_d=0|z)=1-\\theta.\n",
        "            mu_d = torch.sigmoid(h_d)\n",
        "            return [mu_d]\n",
        "        \n",
        "        else:\n",
        "            raise ValueError(\"Only distribution options are categorical and bernoulli\")\n",
        "\n",
        "    # This function implements sampling from the decoder.\n",
        "    def sample(self, z):\n",
        "        \"\"\"\n",
        "        For a given latent code compute parameters of the conditional likelihood \n",
        "        and sample x ~ p(x|z)\n",
        "\n",
        "        z: torch.tensor, with dimensionality (mini-batch, z_dim)\n",
        "\n",
        "        return:\n",
        "        x: torch.tensor, with dimensionality (mini-batch, x_dim)\n",
        "        \"\"\"\n",
        "        outs = self.decode(z)\n",
        "\n",
        "        if self.distribution == \"categorical\":\n",
        "            # We take the output of the decoder, shape = (b, d, self.num_vals)\n",
        "            mu_d = outs[0]\n",
        "            # and save shapes (we will need that for reshaping).\n",
        "            b = mu_d.shape[0]\n",
        "            m = mu_d.shape[1]\n",
        "            # Here we use reshaping.\n",
        "        \n",
        "            # Daniel: This reshape is unnecessary? \n",
        "            mu_d = mu_d.view(mu_d.shape[0], -1, self.num_vals)\n",
        "\n",
        "            # flatten first two dimensions \n",
        "            p = mu_d.view(-1, self.num_vals)\n",
        "            \n",
        "            # Eventually, we sample from the categorical (the built-in PyTorch function).\n",
        "            # This generates a prediction for every pixel. Immediately reshape to (b,m,1)\n",
        "            x_new = torch.multinomial(p, num_samples =  1).view(b,m)\n",
        "        \n",
        "        elif self.distribution == \"bernoulli\":\n",
        "          # In the case of Bernoulli, we don't need any reshaping\n",
        "            mu_d = outs[0]\n",
        "          # and we can use the built-in PyTorch sampler.\n",
        "            x_new = torch.bernoulli(mu_d)\n",
        "        \n",
        "        else:\n",
        "            raise ValueError(\"Only distribution options are categorical and bernoulli\")\n",
        "        \n",
        "        return x_new\n",
        "\n",
        "    def log_prob(self, x, z):\n",
        "        outs = self.decode(z)\n",
        "\n",
        "        if self.distribution == \"categorical\":\n",
        "            mu_d = outs[0]\n",
        "            # log likelihood from probabilities mu_d\n",
        "            log_p = log_categorical(x, mu_d, num_classes = self.num_vals,\n",
        "                                    reduction = \"sum\", dim = -1).sum(-1)\n",
        "        \n",
        "        elif self.distribution == \"bernoulli\":\n",
        "            mu_d = outs[0]\n",
        "            log_p = log_bernoulli(x, mu_d, reduction = \"sum\", dim = -1)\n",
        "\n",
        "        else:\n",
        "            raise ValueError(\"Only distribution options are categorical and bernoulli\")\n",
        "\n",
        "        return log_p\n",
        "\n",
        "    # The forward pass is either a log-prob or a sample.\n",
        "    def forward(self, z, x=None, type=\"log_prob\"):\n",
        "        \"\"\"\n",
        "        Compute the log probability: log p(x|z). \n",
        "        z: torch.tensor, with dimensionality (mini-batch, z_dim)\n",
        "        x: torch.tensor, with dimensionality (mini-batch, x_dim)\n",
        "        \"\"\"\n",
        "        assert type in [\"decoder\", \"log_prob\"], \"Type can be either decode or log_prob\"\n",
        "\n",
        "        if type == \"log_prob\":\n",
        "            # calculate the log likelihood log p(x|z)\n",
        "            return self.log_prob(x, z)\n",
        "        else:\n",
        "            # generate an image x^hat\n",
        "            return self.sample(x)"
      ]
    },
    {
      "cell_type": "markdown",
      "metadata": {
        "id": "5xjbNkNL01DP"
      },
      "source": [
        "Please answer the following questions:"
      ]
    },
    {
      "cell_type": "markdown",
      "metadata": {
        "id": "qjDvPaBj04cA"
      },
      "source": [
        "#### Question 3 (0.5 pt)\n",
        "\n",
        "Please explain your choice of the distribution for image data used in this assignment. Additionally, please write it down mathematically (if you think that presenting it as the log-probability, then please do it)."
      ]
    },
    {
      "cell_type": "markdown",
      "metadata": {
        "id": "HLZEzmGI1Ok-"
      },
      "source": [
        "ANSWER:\n",
        "\n",
        "The MNIST dataset contains 8-bit encoded images, where every pixel has a discrete value from $0$ to $255$. To put this in mathematical notation, an image is represented as $x$ with $x= \\mathcal{X}^D \\in \\{0, 1, \\ldots, 255\\}$, $D$ being the dimensionality of the image.\n",
        "\n",
        "Since we are dealing with discrete variables, it makes sense to model the probabilities of all discrete pixel values per pixel with a $\\textbf{categorical}$, or formally a multinomial probability distribution. This multinomial distribution $\\theta(\\mathbf{z})$ depends on the $\\mathbf{z}$ we sampled (see answer to Question 4 for the method of sampling).\n",
        "\n",
        "How we go from $\\mathbf{z})$ to probability values for all pixel values is parameterized by a neural network with a softmax at the end: $\\theta(\\mathbf{z}) =$ softmax(NN($\\mathbf{z}$)).\n",
        "\n",
        "Given $\\theta(\\mathbf{z})$, we can compute the log likelihood of $\\mathbf{x}$: $p_{\\theta}(\\mathbf{x}|z) $. For a multi-dimensional image vector $\\mathbf{x}$, this entails summing the log probability of all true pixel values in the original image.\n",
        "\n",
        "$\\log p_{\\theta}(\\mathbf{x}|\\mathbf{z}) = \\sum^D_d \\log p_\\theta(x_{d,\\text{true}}|\\mathbf{z}) $\n",
        "This can be seen in the $\\texttt{log_categorical()}$ function.\n",
        "\n",
        "Alternatively, if the in put of every pixel is binary (black-white) such that $x= \\mathcal{X}^D \\in \\{0, 1\\}$, the discrete probability values for all pixel values $x_d$ can be given by a Bernoulli distribution."
      ]
    },
    {
      "cell_type": "markdown",
      "metadata": {
        "id": "RhbWamId1eGt"
      },
      "source": [
        "#### Question 4 (0.5 pt)\n",
        "\n",
        "Please explain how one can sample from the distribution chosen by you. Please be specific and formal (i.e., provide mathematical formulae). If applicable, please provide a code snippet."
      ]
    },
    {
      "cell_type": "markdown",
      "metadata": {
        "id": "4FA99FNTLeV2"
      },
      "source": [
        "ANSWER:\n",
        "\n",
        "The encoder network outputs $M$ values for the mean $\\mu_{\\phi}$ and $M$ values for the log variance $\\log \\sigma^2_{\\phi}$. The variance is in log form so that negative and zero values outputted by the network can still be converted to valid values for $\\sigma^2$ by taking $\\exp(\\log \\sigma^2)$. The means and variances are represented by vectors $\\boldsymbol{\\mu}_{\\theta}$, $\\boldsymbol{\\sigma^2}_{\\theta} \\in \\mathbb{R}^{M}.$\n",
        "\n",
        "We now sample $\\mathbf{z} \\sim  q_{\\phi}(\\mathbf{z}|\\mathbf{x})$ using the reparametrization trick:\n",
        "$\\mathbf{z} = \\boldsymbol{\\mu}_{\\theta} + \\boldsymbol{\\sigma^2}_{\\theta} \\odot \\boldsymbol{\\epsilon}$, $\\odot$ denoting elementwise multiplication. $\\boldsymbol{\\epsilon}$ is sampled from a standard multivariate Gaussian: $\\boldsymbol{\\epsilon} \\sim \\mathcal{N}(0, \\mathbf{I})$.\n",
        "\n",
        "Sampling $\\mathbf{z}$ in this manner returns $\\mathbf{z} \\sim \\mathcal{N}(\\mathbf{z} |\\boldsymbol{\\mu}_{\\theta}, \\boldsymbol{\\sigma^2}\\mathbf{I})$.\n",
        "\n",
        "To go from our sampled $\\mathbf{z}$ to generated image, we feed $\\mathbf{z}$ to the decoder net, obtaining probabilities for all discrete pixel values $\\{0, 1, 2, \\ldots, 255\\}$ for all pixels. Using these probabilities, for every pixel the corresponding multinomial distribution is sampled to obtain a pixel value. The sampled pixdel values can then be compiled to obtain a generated image."
      ]
    },
    {
      "cell_type": "markdown",
      "metadata": {
        "id": "CLIEwIiw00op"
      },
      "source": [
        "### Prior\n",
        "\n",
        "The prior is the marginal distribution over latent variables, i.e., $p(\\mathbf{z})$. It plays a crucial role in the generative process and also in synthesizing images of a better quality.\n",
        "\n",
        "In this assignment, you are asked to implement a prior that is learnable (e.g., parameterized by neural networks). If you decide to implement the standard Gaussian prior only, then please be aware that you will not get any points.\n",
        "\n",
        "\n",
        "For the learnable prior you can choose one of the following options:\n",
        "\n",
        "\n",
        "*   Mixture of Gaussians\n",
        "*   Normalizing Flow\n"
      ]
    },
    {
      "cell_type": "code",
      "execution_count": null,
      "metadata": {
        "id": "xQIvee5Cp69V"
      },
      "outputs": [],
      "source": [
        "# YOUR CODE GOES HERE\n",
        "# NOTES:\n",
        "# (i) Implementing the standard Gaussian prior does not give you any points!\n",
        "# (ii) The function \"sample\" must be implemented.\n",
        "# (iii) The function \"forward\" must return the log-probability, i.e., log p(z)\n",
        "\n",
        "class Prior(nn.Module):\n",
        "    def __init__(self, L, device='cpu'): # deviation, the github code does not have device parameter\n",
        "        super(Prior, self).__init__()\n",
        "        self.device = 'cuda'\n",
        "        self.L = L\n",
        "\n",
        "    def sample(self, batch_size):\n",
        "        z = torch.randn((batch_size, self.L))\n",
        "        return z\n",
        "\n",
        "    def forward(self, z):\n",
        "        return log_standard_normal(z)\n",
        "    \n",
        "    def log_prob(self, z):\n",
        "        return log_standard_normal(z)"
      ]
    },
    {
      "cell_type": "markdown",
      "metadata": {
        "id": "z0KH9f2O_PDg"
      },
      "source": [
        "#### Question 5 (2 pts max)\n",
        "\n",
        "**Option 1 (0 pt):  Standard Gaussian**\n",
        "\n",
        "**NOTE: *If you decide to use the standard Gaussian prior, please indicate it in your answer. However, you will get 0 pt for this question.***\n",
        "\n",
        "**Option 2 (0.5 pt): Mixture of Gaussains**\n",
        "\n",
        "Please do the following:\n",
        "- (0.25 pt) Please explain your prior and write it down mathematically\n",
        "- (0.15 pt) Please write down its sampling procedure (if necessary, please add a code snippet).\n",
        "- (0.1 pt) Please write down its log-probability (a mathematical formula).\n",
        "\n",
        "**Option 3 (2 pts): Normalizing Flow**\n",
        "\n",
        "Please do the following:\n",
        "- (1 pt) Please explain your prior and write it down mathematically\n",
        "- (0.5 pt) Please write down its sampling procedure (if necessary, please add a code snippet).\n",
        "- (0.5 pt) Please write down its log-probability (a mathematical formula)."
      ]
    },
    {
      "cell_type": "markdown",
      "source": [
        "ANSWER We opted for the standard Gaussian prior. "
      ],
      "metadata": {
        "id": "EiVJBFjLU3qr"
      }
    },
    {
      "cell_type": "markdown",
      "metadata": {
        "id": "aOM4QM9I_62d"
      },
      "source": [
        "### Complete VAE\n",
        "\n",
        "The last class is `VAE` tha combines all components. Please remember that this class must implement the **Negative ELBO** in `forward`, as well as `sample` (*hint*: it is a composition of `sample` functions from the prior and the decoder)."
      ]
    },
    {
      "cell_type": "code",
      "execution_count": null,
      "metadata": {
        "id": "OQpf-BeSqA6V"
      },
      "outputs": [],
      "source": [
        "# YOUR CODE GOES HERE\n",
        "# This class combines Encoder, Decoder and Prior.\n",
        "# NOTES:\n",
        "# (i) The function \"sample\" must be implemented.\n",
        "# (ii) The function \"forward\" must return the negative ELBO. Please remember to add an argument \"reduction\" that is either \"mean\" or \"sum\".\n",
        "class VAE(nn.Module):\n",
        "    def __init__(self, encoder_net, decoder_net, num_vals = 256,\n",
        "                 L = 16, likelihood_type = \"categorical\", device='cpu'): # here again, 'device' is new parameter\n",
        "        super(VAE, self).__init__()\n",
        "\n",
        "        self.encoder = Encoder(encoder_net=encoder_net).to(device)\n",
        "        self.decoder = Decoder(distribution=likelihood_type, decoder_net=decoder_net,\n",
        "                               num_vals=num_vals).to(device)\n",
        "        self.prior = Prior(L = L).to(device)\n",
        "\n",
        "        self.num_vals = num_vals\n",
        "\n",
        "        self.likelihood_type = likelihood_type\n",
        "\n",
        "    def sample(self, batch_size=64):\n",
        "        z = self.prior.sample(batch_size=batch_size).to(device)\n",
        "        return self.decoder.sample(z)\n",
        "\n",
        "    def forward(self, x, reduction='mean'):\n",
        "        # encoder\n",
        "        mu_e, log_var_e, = self.encoder.encode(x) # TODO error\n",
        "        z = self.encoder.sample(mu_e = mu_e, log_var_e=log_var_e)\n",
        "        \n",
        "        # Negative ELBO (NELBO)\n",
        "        #NELBO = 0.\n",
        "        RE = self.decoder.log_prob(x, z)\n",
        "        KL = (self.prior.forward(z) - self.encoder.log_prob(mu_e = mu_e,\n",
        "                                                             log_var_e = log_var_e,\n",
        "                                                             z=z)).sum(-1)\n",
        "        NELBO = -(RE + KL)\n",
        "\n",
        "        if reduction == 'sum':\n",
        "            return NELBO.sum()\n",
        "        else:\n",
        "            return NELBO.mean()"
      ]
    },
    {
      "cell_type": "markdown",
      "source": [
        "COMMMENT: We opted for a convolutional encoder network and a MLP decoder network. The linear network had a hidden layer size of $2*256 = 512$, while the number of latent variables $z$ ($L$) was set to $150$. "
      ],
      "metadata": {
        "id": "1JDU8kSZrJmX"
      }
    },
    {
      "cell_type": "code",
      "execution_count": null,
      "metadata": {
        "colab": {
          "base_uri": "https://localhost:8080/"
        },
        "id": "Y-RAYzJ2Mr_Q",
        "outputId": "457c75f2-19c4-4e4c-8e2a-77cb3bd7048d"
      },
      "outputs": [
        {
          "output_type": "execute_result",
          "data": {
            "text/plain": [
              "Sequential(\n",
              "  (0): Linear(in_features=150, out_features=512, bias=True)\n",
              "  (1): LeakyReLU(negative_slope=0.01)\n",
              "  (2): Linear(in_features=512, out_features=512, bias=True)\n",
              "  (3): LeakyReLU(negative_slope=0.01)\n",
              "  (4): Linear(in_features=512, out_features=200704, bias=True)\n",
              ")"
            ]
          },
          "metadata": {},
          "execution_count": 11
        }
      ],
      "source": [
        "likelihood_type = 'categorical'\n",
        "D = 784\n",
        "M = 256*2\n",
        "L = 150\n",
        "\n",
        "if likelihood_type == 'categorical':\n",
        "    num_vals = 256\n",
        "elif likelihood_type == 'bernoulli':\n",
        "    num_vals = 1\n",
        "\n",
        "\n",
        "# convolutional encoder\n",
        "encoder = nn.Sequential(nn.Unflatten(1, (1, 28, 28)),\n",
        "                        nn.Conv2d(1, 16, kernel_size = 3, stride = 1, padding = 1),\n",
        "                        nn.ReLU(), # size: batch, 1, 28, 28, \n",
        "                        nn.Conv2d(16, 32, kernel_size = 3, stride = 1, padding = 1),\n",
        "                        nn.ReLU(), \n",
        "                        nn.Flatten(1),\n",
        "                        nn.Linear(32*28*28, 2 * L))\n",
        "\n",
        "encoder.to(device)\n",
        "decoder = nn.Sequential(nn.Linear(L, M),\n",
        "                        nn.LeakyReLU(),\n",
        "                        nn.Linear(M, M),\n",
        "                        nn.LeakyReLU(),\n",
        "                        nn.Linear(M, num_vals * D))\n",
        "decoder.to(device)"
      ]
    },
    {
      "cell_type": "markdown",
      "metadata": {
        "id": "eaJgXPYyAmeJ"
      },
      "source": [
        "#### Question 6 (0.5 pt)\n",
        "\n",
        "Please write down mathematically the **Negative ELBO** and provide a code snippet."
      ]
    },
    {
      "cell_type": "markdown",
      "metadata": {
        "id": "THYyO-G7AkSQ"
      },
      "source": [
        "ANSWER: \n",
        "\n",
        "We fill in the negative ELBO of the form: $-ELBO = -(RE + KL)$, where **reconstruction errror** $RE = \\ln p_{\\theta}(\\mathbf{x} | \\mathbf{z})$, and **Kullback-Leibler divergence** $KL = \\left[ \\ln q_{\\phi}(\\mathbf{z}|\\mathbf{x}) -  \\ln p(\\mathbf{z}) \\right]$.\n",
        "\n",
        "As given in Question 3, we use a categorical distribution for our decoder $p_{\\theta}(\\mathbf{x} | \\mathbf{z}) = \\mathrm{Categorical} \\left( \\mathbf{x}|\\theta(\\mathbf{z}) \\right)$, and as given in Question 5, we use a standard Gaussian prior $p(\\mathbf{z}) = \\mathcal{N}\\left(\\mathbf{z}_{\\phi} | 0, \\mathbf{I} \\right)$.\n",
        "\n",
        "This gives us the following: $-ELBO(\\theta, \\phi) = - \\left\\{ \\ln \\mathrm{Categorical} \\left( \\mathbf{x}|\\theta \\left( \n",
        "\\mathbf{z}_{\\phi} \\right) \\right) + \\left[ \\ln \\mathcal{N}\\left( \\mathbf{z}_{\\phi} | \\mu_{\\phi}(\\mathbf{x}), \\sigma_{\\phi}^2(\\mathbf{x}) \\right) + \\ln \\mathcal{N}\\left( \\mathbf{z}_{\\phi} | 0, \\mathbf{I} \\right) \\right] \\right\\}$\n",
        "\n",
        "Code snippet for Negative ELBO: \n",
        "```\n",
        "# Negative ELBO (NELBO)\n",
        "#NELBO = 0.\n",
        "RE = self.decoder.log_prob(x, z)\n",
        "KL = (self.prior.forward(z) - self.encoder.log_prob(mu_e = mu_e,\n",
        "                                                    log_var_e = log_var_e,\n",
        "                                                    z=z)).sum(-1)\n",
        "        NELBO = -(RE + KL)\n",
        "```"
      ]
    },
    {
      "cell_type": "markdown",
      "metadata": {
        "id": "hLhgze7DA4yx"
      },
      "source": [
        "### Evaluation and training functions\n",
        "\n",
        "**Please do not remove or modify them.**"
      ]
    },
    {
      "cell_type": "code",
      "execution_count": null,
      "metadata": {
        "id": "I9Dr3a6lqJ0W"
      },
      "outputs": [],
      "source": [
        "# DO NOT REMOVE\n",
        "\n",
        "def evaluation(test_loader, name=None, model_best=None, epoch=None):\n",
        "    # EVALUATION\n",
        "    if model_best is None:\n",
        "        # load best performing model\n",
        "        model_best = torch.load(name + '.model')\n",
        "\n",
        "    model_best.eval()\n",
        "    loss = 0.\n",
        "    N = 0.\n",
        "    for indx_batch, (test_batch, _) in enumerate(test_loader):\n",
        "        test_batch = test_batch.to(device)\n",
        "        b = test_batch.shape[0]\n",
        "        test_batch = torch.reshape(test_batch, (b, 28*28))\n",
        "        loss_t = model_best.forward(test_batch, reduction='sum')\n",
        "        loss = loss + loss_t.item()\n",
        "        N = N + test_batch.shape[0]\n",
        "    loss = loss / N\n",
        "\n",
        "    if epoch is None:\n",
        "        print(f'FINAL LOSS: nll={loss}')\n",
        "    else:\n",
        "        print(f'Epoch: {epoch}, val nll={loss}')\n",
        "\n",
        "    return loss\n",
        "\n",
        "\n",
        "def samples_real(name, test_loader, shape=(28,28)):\n",
        "    # real images-------\n",
        "    num_x = 4\n",
        "    num_y = 4\n",
        "    x, _ = next(iter(test_loader))\n",
        "    x = x.to('cpu').detach().numpy()\n",
        "\n",
        "    fig, ax = plt.subplots(num_x, num_y)\n",
        "    for i, ax in enumerate(ax.flatten()):\n",
        "        plottable_image = np.reshape(x[i], shape)\n",
        "        ax.imshow(plottable_image, cmap='gray')\n",
        "        ax.axis('off')\n",
        "\n",
        "    plt.savefig(name+'_real_images.pdf', bbox_inches='tight')\n",
        "    plt.close()\n",
        "\n",
        "\n",
        "def samples_generated(name, data_loader, shape=(28,28), extra_name=''):\n",
        "    x, _ = next(iter(data_loader))\n",
        "    x = x.to('cpu').detach().numpy()\n",
        "\n",
        "    # generations-------\n",
        "    model_best = torch.load(name + '.model')\n",
        "    model_best.to(device)\n",
        "    model_best.eval()\n",
        "\n",
        "    num_x = 4\n",
        "    num_y = 4\n",
        "    x = model_best.sample(num_x * num_y)\n",
        "    x = x.to('cpu').detach().numpy()\n",
        "\n",
        "    fig, ax = plt.subplots(num_x, num_y)\n",
        "    for i, ax in enumerate(ax.flatten()):\n",
        "        plottable_image = np.reshape(x[i], shape)\n",
        "        ax.imshow(plottable_image, cmap='gray')\n",
        "        ax.axis('off')\n",
        "\n",
        "    plt.savefig(name + '_generated_images' + extra_name + '.pdf', bbox_inches='tight')\n",
        "    plt.close()\n",
        "\n",
        "\n",
        "def plot_curve(name, nll_val):\n",
        "    plt.plot(np.arange(len(nll_val)), nll_val, linewidth='3')\n",
        "    plt.xlabel('epochs')\n",
        "    plt.ylabel('nll')\n",
        "    plt.savefig(name + '_nll_val_curve.pdf', bbox_inches='tight')\n",
        "    plt.close()"
      ]
    },
    {
      "cell_type": "code",
      "execution_count": null,
      "metadata": {
        "id": "9ABgMeG0qFAP"
      },
      "outputs": [],
      "source": [
        "# DO NOT REMOVE\n",
        "\n",
        "def training(name, max_patience, num_epochs, model, optimizer, training_loader, val_loader, shape=(28,28)):\n",
        "    nll_val = []\n",
        "    best_nll = 1000.\n",
        "    patience = 0\n",
        "\n",
        "    # Main loop\n",
        "    for e in range(num_epochs):\n",
        "        # TRAINING\n",
        "        model.train()\n",
        "        for indx_batch, (batch, _) in enumerate(training_loader):\n",
        "            b = batch.shape[0]\n",
        "            batch = torch.reshape(batch, (b, 28*28))\n",
        "            batch = batch.to(device)\n",
        "            loss = model.forward(batch, reduction='mean')\n",
        "\n",
        "            optimizer.zero_grad()\n",
        "            loss.backward()\n",
        "            optimizer.step()\n",
        "            # print(f'{indx_batch}/{50000/batch_size}', end = '\\r')\n",
        "        # Validation\n",
        "        loss_val = evaluation(val_loader, model_best=model, epoch=e)\n",
        "        nll_val.append(loss_val)  # save for plotting\n",
        "\n",
        "        if e == 0:\n",
        "            print('saved!')\n",
        "            torch.save(model, name + '.model')\n",
        "            best_nll = loss_val\n",
        "        else:\n",
        "            if loss_val < best_nll:\n",
        "                print('saved!')\n",
        "                torch.save(model, name + '.model')\n",
        "                best_nll = loss_val\n",
        "                patience = 0\n",
        "\n",
        "                samples_generated(name, val_loader, shape=shape, extra_name=\"_epoch_\" + str(e))\n",
        "            else:\n",
        "                patience = patience + 1\n",
        "\n",
        "        if patience > max_patience:\n",
        "            break\n",
        "\n",
        "    nll_val = np.asarray(nll_val)\n",
        "\n",
        "    return nll_val"
      ]
    },
    {
      "cell_type": "markdown",
      "metadata": {
        "id": "kWr8N2u2qNTu"
      },
      "source": [
        "### Setup\n",
        "\n",
        "**NOTE: *Please comment your code! Especially if you introduce any new variables (e.g., hyperparameters).***\n",
        "\n",
        "In the following cells, we define `transforms` for the dataset. Next, we initialize the data, a directory for results and some fixed hyperparameters."
      ]
    },
    {
      "cell_type": "code",
      "execution_count": null,
      "metadata": {
        "id": "bFTE5jtYpxDV"
      },
      "outputs": [],
      "source": [
        "# PLEASE DEFINE APPROPRIATE TRANFORMS FOR THE DATASET\n",
        "transforms_train = torchvision.transforms.Compose([torchvision.transforms.ToTensor(),\n",
        "                                                  torchvision.transforms.Normalize((0.1307,), (0.3081,))])\n",
        "\n",
        "transforms_test = torchvision.transforms.Compose([torchvision.transforms.ToTensor(),\n",
        "                                                  torchvision.transforms.Normalize((0.1307,), (0.3081,))])"
      ]
    },
    {
      "cell_type": "markdown",
      "metadata": {
        "id": "8SDcOBbGCM8z"
      },
      "source": [
        "Please do not modify the code in the next cell."
      ]
    },
    {
      "cell_type": "code",
      "execution_count": null,
      "metadata": {
        "id": "UXHitzrYqNhY",
        "colab": {
          "base_uri": "https://localhost:8080/",
          "height": 423,
          "referenced_widgets": [
            "50720b9109c24a8bb1509534951fb247",
            "e8f1b6176bc44285acc2153af0d483b7",
            "589c1db2d88d4246ad24bb6f5c3c637c",
            "83460b0a98424a178cd6cce5d9d404c0",
            "be41b0a7272d475ba9e320051f141619",
            "fda5e28d7b29430db38989d4dcf1fddb",
            "ca25c61715644d7abce7b243100a95ce",
            "75b4d545593e4faea51c16abf0a431b5",
            "cb9e0368012448769bcf6d0568ed62db",
            "a692b131a31e483cb14ec8d3ac2c1aeb",
            "d64a8bdc178b488ca5daead6e7ad4507",
            "179d7d3ec9e049549d73e0b6b7f5b480",
            "68ec97449ebe40c59fc02d4ad49820fc",
            "317f28c18af440198c004dc46db5b8ab",
            "a19c9cc441b5490ca022ab563a586738",
            "0de9022fd5154299baea984399181202",
            "f42d941bc90b46f2a6e8f7b583c0cb66",
            "c0e73d3e61dc4ae291a863fcb966df91",
            "1859c6f479cd44a990f8f8503edb4428",
            "32b4d36bfd0a4f9b86098b7452fbd021",
            "cd8425f96a434048aa96d44bc514147a",
            "d7b56feea0de4ec0859463dfe26ec151",
            "931d290c662448068230fb7d0b396c43",
            "a409be54b1294423a59e38fb32a2980b",
            "d06d88e3e3194fc88273743650eb8945",
            "419e50109b7d416ba58114af2a55f68c",
            "6cee75bdc5134fd0ad7a1f04547a711c",
            "064b0d2f78554296b13d95ae123902f3",
            "70b87900b2d9425fafdf50ea051c59f7",
            "3e35b18f95934fcdad313e4bccefc3b0",
            "9f27fecdf1d347e59333ff4e1f8c1cd6",
            "6b24c6a12a9145949268f38f42a6033d",
            "5a83b795e1de468bae9ca33b3c5c3a86",
            "c30d4331388247d09f24176b83581fa3",
            "3fc21792b7194cf69f8c31228fe734b0",
            "f69df76609a94a40b7dff04c52004b6e",
            "46b54279a18c49d9b0d9131a7f912eb0",
            "10d73d11ad6a4073967445996dcb5d51",
            "21dca921bf904f8e927e856dddff3b72",
            "dab26c7b2fe44a208b8232be20333b17",
            "64ee1b989c6344cd9b8b39a10346ecd9",
            "7b93fbb0650a4dab9d16daba178f5469",
            "82bd3af90bc543c6afe81da399c69e49",
            "f5d43877693d4a6aa7993fb71172aaa7"
          ]
        },
        "outputId": "e28604b0-6fe9-4466-97fa-296de7096bca"
      },
      "outputs": [
        {
          "output_type": "stream",
          "name": "stdout",
          "text": [
            "Downloading http://yann.lecun.com/exdb/mnist/train-images-idx3-ubyte.gz\n",
            "Downloading http://yann.lecun.com/exdb/mnist/train-images-idx3-ubyte.gz to /files/MNIST/raw/train-images-idx3-ubyte.gz\n"
          ]
        },
        {
          "output_type": "display_data",
          "data": {
            "text/plain": [
              "  0%|          | 0/9912422 [00:00<?, ?it/s]"
            ],
            "application/vnd.jupyter.widget-view+json": {
              "version_major": 2,
              "version_minor": 0,
              "model_id": "50720b9109c24a8bb1509534951fb247"
            }
          },
          "metadata": {}
        },
        {
          "output_type": "stream",
          "name": "stdout",
          "text": [
            "Extracting /files/MNIST/raw/train-images-idx3-ubyte.gz to /files/MNIST/raw\n",
            "\n",
            "Downloading http://yann.lecun.com/exdb/mnist/train-labels-idx1-ubyte.gz\n",
            "Downloading http://yann.lecun.com/exdb/mnist/train-labels-idx1-ubyte.gz to /files/MNIST/raw/train-labels-idx1-ubyte.gz\n"
          ]
        },
        {
          "output_type": "display_data",
          "data": {
            "text/plain": [
              "  0%|          | 0/28881 [00:00<?, ?it/s]"
            ],
            "application/vnd.jupyter.widget-view+json": {
              "version_major": 2,
              "version_minor": 0,
              "model_id": "179d7d3ec9e049549d73e0b6b7f5b480"
            }
          },
          "metadata": {}
        },
        {
          "output_type": "stream",
          "name": "stdout",
          "text": [
            "Extracting /files/MNIST/raw/train-labels-idx1-ubyte.gz to /files/MNIST/raw\n",
            "\n",
            "Downloading http://yann.lecun.com/exdb/mnist/t10k-images-idx3-ubyte.gz\n",
            "Downloading http://yann.lecun.com/exdb/mnist/t10k-images-idx3-ubyte.gz to /files/MNIST/raw/t10k-images-idx3-ubyte.gz\n"
          ]
        },
        {
          "output_type": "display_data",
          "data": {
            "text/plain": [
              "  0%|          | 0/1648877 [00:00<?, ?it/s]"
            ],
            "application/vnd.jupyter.widget-view+json": {
              "version_major": 2,
              "version_minor": 0,
              "model_id": "931d290c662448068230fb7d0b396c43"
            }
          },
          "metadata": {}
        },
        {
          "output_type": "stream",
          "name": "stdout",
          "text": [
            "Extracting /files/MNIST/raw/t10k-images-idx3-ubyte.gz to /files/MNIST/raw\n",
            "\n",
            "Downloading http://yann.lecun.com/exdb/mnist/t10k-labels-idx1-ubyte.gz\n",
            "Downloading http://yann.lecun.com/exdb/mnist/t10k-labels-idx1-ubyte.gz to /files/MNIST/raw/t10k-labels-idx1-ubyte.gz\n"
          ]
        },
        {
          "output_type": "display_data",
          "data": {
            "text/plain": [
              "  0%|          | 0/4542 [00:00<?, ?it/s]"
            ],
            "application/vnd.jupyter.widget-view+json": {
              "version_major": 2,
              "version_minor": 0,
              "model_id": "c30d4331388247d09f24176b83581fa3"
            }
          },
          "metadata": {}
        },
        {
          "output_type": "stream",
          "name": "stdout",
          "text": [
            "Extracting /files/MNIST/raw/t10k-labels-idx1-ubyte.gz to /files/MNIST/raw\n",
            "\n"
          ]
        }
      ],
      "source": [
        "# DO NOT REMOVE\n",
        "#-dataset\n",
        "dataset = MNIST('/files/', train=True, download=True,\n",
        "                      transform=transforms_train\n",
        "                )\n",
        "\n",
        "train_dataset, val_dataset = torch.utils.data.random_split(dataset, [50000, 10000], generator=torch.Generator().manual_seed(14))\n",
        "\n",
        "test_dataset = MNIST('/files/', train=False, download=True,\n",
        "                      transform=transforms_test\n",
        "                     )\n",
        "#-dataloaders\n",
        "batch_size = 64\n",
        "\n",
        "train_loader = DataLoader(train_dataset, batch_size=batch_size, shuffle=True)\n",
        "val_loader = DataLoader(val_dataset, batch_size=batch_size, shuffle=False)\n",
        "test_loader = DataLoader(test_dataset, batch_size=batch_size, shuffle=False)\n",
        "\n",
        "#-creating a dir for saving results\n",
        "name = 'vae'\n",
        "result_dir = images_dir + 'results/' + name + '/'\n",
        "if not(os.path.exists(result_dir)):\n",
        "    os.mkdir(result_dir)\n",
        "\n",
        "#-hyperparams (please do not modify them for the final report)\n",
        "num_epochs = 1000 # max. number of epochs\n",
        "max_patience = 20 # an early stopping is used, if training doesn't improve for longer than 20 epochs, it is stopped"
      ]
    },
    {
      "cell_type": "markdown",
      "metadata": {
        "id": "kmKDXMI0B231"
      },
      "source": [
        "In the next cell, please initialize the model. Please remember about commenting your code!"
      ]
    },
    {
      "cell_type": "code",
      "execution_count": null,
      "metadata": {
        "colab": {
          "base_uri": "https://localhost:8080/"
        },
        "id": "b73aaBDxqSYb",
        "outputId": "337106e8-594b-492c-fee0-4dd83971fcf3"
      },
      "outputs": [
        {
          "output_type": "execute_result",
          "data": {
            "text/plain": [
              "VAE(\n",
              "  (encoder): Encoder(\n",
              "    (encoder): Sequential(\n",
              "      (0): Unflatten(dim=1, unflattened_size=(1, 28, 28))\n",
              "      (1): Conv2d(1, 16, kernel_size=(3, 3), stride=(1, 1), padding=(1, 1))\n",
              "      (2): ReLU()\n",
              "      (3): Conv2d(16, 32, kernel_size=(3, 3), stride=(1, 1), padding=(1, 1))\n",
              "      (4): ReLU()\n",
              "      (5): Flatten(start_dim=1, end_dim=-1)\n",
              "      (6): Linear(in_features=25088, out_features=300, bias=True)\n",
              "    )\n",
              "  )\n",
              "  (decoder): Decoder(\n",
              "    (decoder): Sequential(\n",
              "      (0): Linear(in_features=150, out_features=512, bias=True)\n",
              "      (1): LeakyReLU(negative_slope=0.01)\n",
              "      (2): Linear(in_features=512, out_features=512, bias=True)\n",
              "      (3): LeakyReLU(negative_slope=0.01)\n",
              "      (4): Linear(in_features=512, out_features=200704, bias=True)\n",
              "    )\n",
              "  )\n",
              "  (prior): Prior()\n",
              ")"
            ]
          },
          "metadata": {},
          "execution_count": 16
        }
      ],
      "source": [
        "# YOUR CODE COMES HERE:\n",
        "prior = torch.distributions.MultivariateNormal(torch.zeros(L), torch.eye(L)) # Standard Gaussian prior\n",
        "model = VAE(encoder_net=encoder, decoder_net=decoder, num_vals=num_vals, L=L, likelihood_type=likelihood_type)\n",
        "model.to(device) # move model to GPU\n"
      ]
    },
    {
      "cell_type": "markdown",
      "metadata": {
        "id": "iC8AkWt4CURT"
      },
      "source": [
        "Please initialize the optimizer"
      ]
    },
    {
      "cell_type": "code",
      "execution_count": null,
      "metadata": {
        "id": "a3nTSDe7ql08"
      },
      "outputs": [],
      "source": [
        "# PLEASE DEFINE YOUR OPTIMIZER\n",
        "lr = 0.002 # learning rate\n",
        "optimizer = torch.optim.Adamax([p for p in model.parameters() if p.requires_grad == True], lr=lr)"
      ]
    },
    {
      "cell_type": "markdown",
      "metadata": {
        "id": "79odxtRjCaix"
      },
      "source": [
        "#### Question 7 (0.5 pt)\n",
        "Please explain the choice of the optimizer, and comment on the choice of the hyperparameters (e.g., the learing reate value).\n",
        "\n",
        "ANSWER:\n",
        "\n",
        "As an optimizer, we chose pytorch’s implementation of Adamax (Kingma and Ba, 2014). Adam (Adaptive Moment Estimation) is an optimizer that adaptively computes individual learning rates for each parameter. Adamax is a variant of Adam that is based on the infinity norm, aimed to accelarate the optimization process. Based on recommendations by Sebastian Ruder (Ruder, 2016), we used Adamax with the hyperparameters learning rate = 0.002, $β_1=0.9$, and $β_2=0.999$ and $\\epsilon = 1e^{-8}$.\n",
        "The value we chose for the learning rate will be tested and evaluated further on in question 9.\n",
        "<br><br>\n",
        "Kingma, Diederik P., and Jimmy Ba. \"Adam: A method for stochastic optimization.\" *arXiv preprint arXiv:1412.6980* (2014).\n",
        "\n",
        "Ruder, Sebastian. \"An overview of gradient descent optimization algorithms.\" *arXiv preprint arXiv:1609.04747* (2016)."
      ]
    },
    {
      "cell_type": "markdown",
      "metadata": {
        "id": "P5GrzUcHFweG"
      },
      "source": [
        "### Training and final evaluation\n",
        "\n",
        "In the following two cells, we run the training and the final evaluation."
      ]
    },
    {
      "cell_type": "code",
      "execution_count": null,
      "metadata": {
        "id": "ig6wTNMVOCBf"
      },
      "outputs": [],
      "source": [
        "lr = 0.002 # learning rate\n",
        "num_epochs = 1000 # max. number of epochs\n",
        "max_patience = 20 # an early stopping is used, if training doesn't improve for longer than 20 epochs, it is stopped"
      ]
    },
    {
      "cell_type": "code",
      "execution_count": null,
      "metadata": {
        "colab": {
          "base_uri": "https://localhost:8080/"
        },
        "id": "VD7WuY6bqnBK",
        "outputId": "b4efc33b-5cf2-433b-e64b-07b8103fc05c"
      },
      "outputs": [
        {
          "output_type": "stream",
          "name": "stdout",
          "text": [
            "Epoch: 0, val nll=217.18701479492188\n",
            "saved!\n",
            "Epoch: 1, val nll=179.93992866210937\n",
            "saved!\n",
            "Epoch: 2, val nll=160.92179172363282\n",
            "saved!\n",
            "Epoch: 3, val nll=149.97623403320313\n",
            "saved!\n",
            "Epoch: 4, val nll=143.60857612304687\n",
            "saved!\n",
            "Epoch: 5, val nll=139.0380762451172\n",
            "saved!\n",
            "Epoch: 6, val nll=136.18403818359374\n",
            "saved!\n",
            "Epoch: 7, val nll=134.5958966064453\n",
            "saved!\n",
            "Epoch: 8, val nll=132.91612243652344\n",
            "saved!\n",
            "Epoch: 9, val nll=132.11680705566405\n",
            "saved!\n",
            "Epoch: 10, val nll=131.41546657714844\n",
            "saved!\n",
            "Epoch: 11, val nll=130.17499665527345\n",
            "saved!\n",
            "Epoch: 12, val nll=129.72082080078124\n",
            "saved!\n",
            "Epoch: 13, val nll=128.92853605957032\n",
            "saved!\n",
            "Epoch: 14, val nll=128.71549130859376\n",
            "saved!\n",
            "Epoch: 15, val nll=128.3280083984375\n",
            "saved!\n",
            "Epoch: 16, val nll=127.88661302490235\n",
            "saved!\n",
            "Epoch: 17, val nll=127.69106411132813\n",
            "saved!\n",
            "Epoch: 18, val nll=127.07447830810547\n",
            "saved!\n",
            "Epoch: 19, val nll=126.90703646240235\n",
            "saved!\n",
            "Epoch: 20, val nll=126.62087263183594\n",
            "saved!\n",
            "Epoch: 21, val nll=126.25121413574219\n",
            "saved!\n",
            "Epoch: 22, val nll=127.026810546875\n",
            "Epoch: 23, val nll=126.52662807617187\n",
            "Epoch: 24, val nll=126.04547946777343\n",
            "saved!\n",
            "Epoch: 25, val nll=125.88578544921874\n",
            "saved!\n",
            "Epoch: 26, val nll=126.10997524414063\n",
            "Epoch: 27, val nll=125.99778896484375\n",
            "Epoch: 28, val nll=126.09060556640625\n",
            "Epoch: 29, val nll=125.68298322753907\n",
            "saved!\n",
            "Epoch: 30, val nll=125.89986293945313\n",
            "Epoch: 31, val nll=125.50999862060547\n",
            "saved!\n",
            "Epoch: 32, val nll=125.50699172363281\n",
            "saved!\n",
            "Epoch: 33, val nll=125.80590908203125\n",
            "Epoch: 34, val nll=125.61172854003907\n",
            "Epoch: 35, val nll=125.76585515136719\n",
            "Epoch: 36, val nll=125.35602303466797\n",
            "saved!\n",
            "Epoch: 37, val nll=125.5061896484375\n",
            "Epoch: 38, val nll=125.72162692871093\n",
            "Epoch: 39, val nll=125.57423465576171\n",
            "Epoch: 40, val nll=125.96307961425781\n",
            "Epoch: 41, val nll=125.28342697753907\n",
            "saved!\n",
            "Epoch: 42, val nll=125.40230323486328\n",
            "Epoch: 43, val nll=125.44555783691406\n",
            "Epoch: 44, val nll=125.45916560058593\n",
            "Epoch: 45, val nll=125.63840395507812\n",
            "Epoch: 46, val nll=125.51798123779297\n",
            "Epoch: 47, val nll=125.36609147949218\n",
            "Epoch: 48, val nll=126.08321684570312\n",
            "Epoch: 49, val nll=125.66138635253907\n",
            "Epoch: 50, val nll=126.0580302368164\n",
            "Epoch: 51, val nll=125.66672944335937\n",
            "Epoch: 52, val nll=125.41180764160156\n",
            "Epoch: 53, val nll=125.65662884521484\n",
            "Epoch: 54, val nll=125.65302963867188\n",
            "Epoch: 55, val nll=125.57571098632812\n",
            "Epoch: 56, val nll=125.84325277099609\n",
            "Epoch: 57, val nll=125.70500395507813\n",
            "Epoch: 58, val nll=125.43683458251954\n",
            "Epoch: 59, val nll=125.81834204101563\n",
            "Epoch: 60, val nll=125.79578656005859\n",
            "Epoch: 61, val nll=125.84017508544922\n",
            "Epoch: 62, val nll=125.64747575683593\n"
          ]
        }
      ],
      "source": [
        "# DO NOT REMOVE OR MODIFY\n",
        "# Training procedure\n",
        "nll_val = training(name=result_dir + name, max_patience=max_patience, \n",
        "                   num_epochs=num_epochs, model=model, optimizer=optimizer,\n",
        "                   training_loader=train_loader, val_loader=val_loader,\n",
        "                   shape=(28,28))"
      ]
    },
    {
      "cell_type": "code",
      "execution_count": null,
      "metadata": {
        "colab": {
          "base_uri": "https://localhost:8080/"
        },
        "id": "JAuMt9_wquOI",
        "outputId": "a5be8ab9-d8bd-4b98-9a88-5659d8dbcc35"
      },
      "outputs": [
        {
          "output_type": "stream",
          "name": "stdout",
          "text": [
            "FINAL LOSS: nll=124.11113305664063\n"
          ]
        }
      ],
      "source": [
        "# DO NOT REMOVE OR MODIFY\n",
        "# Final evaluation\n",
        "test_loss = evaluation(name=result_dir + name, test_loader=test_loader)\n",
        "f = open(result_dir + name + '_test_loss.txt', \"w\")\n",
        "f.write(str(test_loss))\n",
        "f.close()\n",
        "\n",
        "samples_real(result_dir + name, test_loader)\n",
        "samples_generated(result_dir + name, test_loader, extra_name='_FINAL')\n",
        "\n",
        "plot_curve(result_dir + name, nll_val)"
      ]
    },
    {
      "cell_type": "markdown",
      "metadata": {
        "id": "qaBwGtSJF8ag"
      },
      "source": [
        "### Results and discussion\n",
        "\n",
        "After a successful training of your model, we would like to ask you to present your data and analyze it. Please answer the following questions."
      ]
    },
    {
      "cell_type": "markdown",
      "metadata": {
        "id": "v4WZkoiHFyZm"
      },
      "source": [
        "\n",
        "#### Question 8 (1 pt)\n",
        "\n",
        "Please select the real data, and the final generated data and include them in this report. Please comment on the following:\n",
        "- (0.5 pt) Do you think the model was trained properly by looking at the generations? Please motivate your answer well.\n",
        "- (0.5 pt) What are potential problems with evaluating a generative model by looking at generated data? How can we evalute generative models (ELBO or NLL do not count as an answer)?"
      ]
    },
    {
      "cell_type": "markdown",
      "source": [
        "This image shows some of the real images from the MNIST dataset.\n",
        "\n",
        "![vae_real_images.png](data:image/png;base64,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)"
      ],
      "metadata": {
        "id": "G5HyMRNmt7_3"
      }
    },
    {
      "cell_type": "markdown",
      "source": [
        "The image below shows eight images generated by the trained VAE. \n",
        "\n",
        "![vae_generated_images_FINAL.png](data:image/png;base64,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)"
      ],
      "metadata": {
        "id": "5mlvXptHv4Vc"
      }
    },
    {
      "cell_type": "markdown",
      "source": [
        "ANSWER:\n",
        "\n",
        "The first image shown above are real images from the MNIST dataset, while the second image shows images generated by the trained VAE. Most of the generations produced by our model contain a discernable number and resemble the MNIST images used as input. Therefore, we believe the model was trained properly. Previous attempts where fewer latent variables were used produced unrecognizable data with only a few white spots at seemingly random positions. The quality of the generated images can probably be increased by further increasing the number of latent variables used. \n",
        "\n",
        "Potential problems with evaluating a generative model by looking at generated data are that since this is a qualitative way of assessing the results, it is subjective and affected by biases (Borji, 2019). It’s also dependent on the knowledge of the evaluator about what is realistic to expect. Since someone else may have a different opinion about the model’s success, this way of evaluation is not reproducible. Another problem is that there are a lot of images for which it would take a lot of time to look at them all.\n",
        "\n",
        "Two alternative ways of evaluating generative models are (1) nearest neighbor analysis or (2) classification by a pre-trained network. The Nearest Neighbors approach involves selection of real images that are in the same domain or of the same object. For our MNIST dataset, this would be images of the same number. These images are used for comparison. The difference or similarity between the images can be calculated with distance measures like Euclidean distance between pixel data. Another method could be to use a pre-trained neural network to classify the images generated by the generative model (Salimans et al., 2016). For each generated image, the classification model assigns the probability of belonging to each class. Summarizing these probabilities gives a score that can be used for evaluation.\n",
        "\n",
        "<br><br>\n",
        "Borji, Ali. \"Pros and cons of gan evaluation measures.\" *Computer Vision and Image Understanding* 179 (2019): 41-65.\n",
        "\n",
        "Salimans, Tim, Ian Goodfellow, Wojciech Zaremba, Vicki Cheung, Alec Radford, and Xi Chen. \"Improved techniques for training gans.\" *Advances in neural information processing systems* 29 (2016)."
      ],
      "metadata": {
        "id": "BRm0P7ZttGox"
      }
    },
    {
      "cell_type": "code",
      "execution_count": null,
      "metadata": {
        "colab": {
          "base_uri": "https://localhost:8080/"
        },
        "id": "BSBsXZrlJ6J8",
        "outputId": "d0d009ea-9ac6-4ebd-ac94-29d3139da412"
      },
      "outputs": [
        {
          "name": "stdout",
          "output_type": "stream",
          "text": [
            "Epoch: 0, val nll=211.474072265625\n",
            "saved!\n",
            "Epoch: 1, val nll=177.39350480957032\n",
            "saved!\n",
            "Epoch: 2, val nll=158.80342431640625\n",
            "saved!\n",
            "Epoch: 3, val nll=147.85513823242187\n",
            "saved!\n",
            "Epoch: 4, val nll=142.31177722167968\n",
            "saved!\n",
            "Epoch: 5, val nll=138.5957794921875\n",
            "saved!\n",
            "Epoch: 6, val nll=136.16339249267577\n",
            "saved!\n",
            "Epoch: 7, val nll=134.08062443847658\n",
            "saved!\n",
            "Epoch: 8, val nll=132.81400705566406\n",
            "saved!\n",
            "Epoch: 9, val nll=131.54044733886718\n",
            "saved!\n",
            "Epoch: 10, val nll=131.34134565429687\n",
            "saved!\n",
            "Epoch: 11, val nll=129.8858255004883\n",
            "saved!\n",
            "Epoch: 12, val nll=129.2088252319336\n",
            "saved!\n",
            "Epoch: 13, val nll=128.60899020996095\n",
            "saved!\n",
            "Epoch: 14, val nll=128.38567412109376\n",
            "saved!\n",
            "Epoch: 15, val nll=128.08821359863282\n",
            "saved!\n",
            "Epoch: 16, val nll=127.66374587402343\n",
            "saved!\n",
            "Epoch: 17, val nll=127.37452087402343\n",
            "saved!\n",
            "Epoch: 18, val nll=126.9860470703125\n",
            "saved!\n",
            "Epoch: 19, val nll=127.10414552001953\n"
          ]
        }
      ],
      "source": [
        "# Hyperparameter tuning\n",
        "num_epochs = 20\n",
        "max_patience = 10\n",
        "batch_size = 64\n",
        "\n",
        "prior = torch.distributions.MultivariateNormal(torch.zeros(L), torch.eye(L))\n",
        "model = VAE(encoder_net=encoder, decoder_net=decoder, num_vals=num_vals, L=L, likelihood_type=likelihood_type)\n",
        "model.to(device)\n",
        "\n",
        "for optim in ['SGD', 'Adamax']: \n",
        "    for lr in [0.0001, 0.0005, 0.001, 0.002, 0.005, 0.01]: \n",
        "        name = f'training_optimizer_{optim}_lr_{lr}'\n",
        "        #-creating a dir for saving results\n",
        "        result_dir = images_dir + 'results/' + name + '/'\n",
        "        if not(os.path.exists(result_dir)):\n",
        "            os.mkdir(result_dir)\n",
        "        if optim == 'AdaMax':\n",
        "            optimizer = torch.optim.Adamax([p for p in model.parameters() if p.requires_grad == True], lr=lr)\n",
        "        if optim == 'SGD': \n",
        "            optimizer = torch.optim.Adamax([p for p in model.parameters() if p.requires_grad == True], lr=lr)\n",
        "\n",
        "        nll_val = training(name=result_dir + name, max_patience=max_patience, \n",
        "                        num_epochs=num_epochs, model=model, optimizer=optimizer,\n",
        "                        training_loader=train_loader, val_loader=val_loader,\n",
        "                        shape=(28,28))\n",
        "        np.savetxt(result_dir + name, nll_val)\n",
        "\n",
        "\n"
      ]
    },
    {
      "cell_type": "markdown",
      "metadata": {
        "id": "lmyH318fIwc9"
      },
      "source": [
        "#### Question 9 (1.25 pt)\n",
        "\n",
        "Please include the plot of the negative ELBO. Please comment on the following:\n",
        "- (0.25 pt) Is the training of your VAE stable or unstable? Why?\n",
        "- (1 pt) What is the influence of the optimizer on your model? Do the hyperparameter values of the optimizer important and how do they influence the training? Motivate well your answer (e.g., run the script with more than one learning rate and present two plots here).\n",
        "\n",
        "NB: Plot title, labels and ticks only clearly visible in white mode.\n",
        "\n",
        "\n",
        "![NLLcurve_SGD.png](data:image/png;base64,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)![NLLcurve_Adamax.png](data:image/png;base64,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)\n",
        "\n"
      ]
    },
    {
      "cell_type": "markdown",
      "metadata": {
        "id": "-10GAVZtKTj2"
      },
      "source": [
        "ANSWER: [Please fill in]\n",
        "\n",
        "We evaluated our VAE with Adamax and learning rate 0.002, and observed stable training that clearly minimized negative log-likelihood (NLL) loss over the course of training epochs (see code in Question 7).\n",
        "\n",
        "To further evaluate the influence of optimizers and learning rates, we compared VAE training with SGD or Adamax optimizers and various learning rates (0.01, 0.005, 0.002, 0.001, 0.0005 and 0.0001), each with 20 epochs. We found that particular learning rates could strongly impact model training. The highest learning rate (0.01) with SGD did not minimize NLL for several epochs, and with Adamax the NLL remained mostly constant over all 20 epochs. On the other hand, the lowest learning rate (0.0001) can be seen to minimize loss at a slower rate than other learning rates in SGD, and to minimize loss seemingly fast in the first epochs in Adamax to then also minimize at a slower rate. With a learning rate of 0.005 some stochastic behaviour on the loss can be observed for earlier epochs in both SGD and Adamax. We previously cited literature recommending a learning rate of 0.002 in Question 7. In our evaluations of SGD and Adamax, we too observe that this learning rate achieves the lowest loss, with the similar learning rate 0.001 following closely. Finally, we did not observe strong disparities between the SGD and Adamax optimizers."
      ]
    },
    {
      "cell_type": "markdown",
      "metadata": {
        "id": "l7QhyAMms8-L"
      },
      "source": [
        "# Grading (10pt)"
      ]
    },
    {
      "cell_type": "markdown",
      "metadata": {
        "id": "juIdxXhos-mV"
      },
      "source": [
        "- Question 0: 3pt\n",
        "- Question 1: 0.5pt \n",
        "- Question 2: 0.25pt \n",
        "- Question 3: 0.5pt \n",
        "- Question 4: 0.5pt \n",
        "- Question 5: 2pt \n",
        "- Question 6: 0.5pt\n",
        "- Question 7: 0.5pt\n",
        "- Question 8: 1pt\n",
        "- Question 9: 1.25pt"
      ]
    }
  ],
  "metadata": {
    "accelerator": "GPU",
    "colab": {
      "provenance": [],
      "include_colab_link": true
    },
    "gpuClass": "standard",
    "kernelspec": {
      "display_name": "Python 3 (ipykernel)",
      "language": "python",
      "name": "python3"
    },
    "language_info": {
      "codemirror_mode": {
        "name": "ipython",
        "version": 3
      },
      "file_extension": ".py",
      "mimetype": "text/x-python",
      "name": "python",
      "nbconvert_exporter": "python",
      "pygments_lexer": "ipython3",
      "version": "3.9.12"
    },
    "widgets": {
      "application/vnd.jupyter.widget-state+json": {
        "50720b9109c24a8bb1509534951fb247": {
          "model_module": "@jupyter-widgets/controls",
          "model_name": "HBoxModel",
          "model_module_version": "1.5.0",
          "state": {
            "_dom_classes": [],
            "_model_module": "@jupyter-widgets/controls",
            "_model_module_version": "1.5.0",
            "_model_name": "HBoxModel",
            "_view_count": null,
            "_view_module": "@jupyter-widgets/controls",
            "_view_module_version": "1.5.0",
            "_view_name": "HBoxView",
            "box_style": "",
            "children": [
              "IPY_MODEL_e8f1b6176bc44285acc2153af0d483b7",
              "IPY_MODEL_589c1db2d88d4246ad24bb6f5c3c637c",
              "IPY_MODEL_83460b0a98424a178cd6cce5d9d404c0"
            ],
            "layout": "IPY_MODEL_be41b0a7272d475ba9e320051f141619"
          }
        },
        "e8f1b6176bc44285acc2153af0d483b7": {
          "model_module": "@jupyter-widgets/controls",
          "model_name": "HTMLModel",
          "model_module_version": "1.5.0",
          "state": {
            "_dom_classes": [],
            "_model_module": "@jupyter-widgets/controls",
            "_model_module_version": "1.5.0",
            "_model_name": "HTMLModel",
            "_view_count": null,
            "_view_module": "@jupyter-widgets/controls",
            "_view_module_version": "1.5.0",
            "_view_name": "HTMLView",
            "description": "",
            "description_tooltip": null,
            "layout": "IPY_MODEL_fda5e28d7b29430db38989d4dcf1fddb",
            "placeholder": "​",
            "style": "IPY_MODEL_ca25c61715644d7abce7b243100a95ce",
            "value": "100%"
          }
        },
        "589c1db2d88d4246ad24bb6f5c3c637c": {
          "model_module": "@jupyter-widgets/controls",
          "model_name": "FloatProgressModel",
          "model_module_version": "1.5.0",
          "state": {
            "_dom_classes": [],
            "_model_module": "@jupyter-widgets/controls",
            "_model_module_version": "1.5.0",
            "_model_name": "FloatProgressModel",
            "_view_count": null,
            "_view_module": "@jupyter-widgets/controls",
            "_view_module_version": "1.5.0",
            "_view_name": "ProgressView",
            "bar_style": "success",
            "description": "",
            "description_tooltip": null,
            "layout": "IPY_MODEL_75b4d545593e4faea51c16abf0a431b5",
            "max": 9912422,
            "min": 0,
            "orientation": "horizontal",
            "style": "IPY_MODEL_cb9e0368012448769bcf6d0568ed62db",
            "value": 9912422
          }
        },
        "83460b0a98424a178cd6cce5d9d404c0": {
          "model_module": "@jupyter-widgets/controls",
          "model_name": "HTMLModel",
          "model_module_version": "1.5.0",
          "state": {
            "_dom_classes": [],
            "_model_module": "@jupyter-widgets/controls",
            "_model_module_version": "1.5.0",
            "_model_name": "HTMLModel",
            "_view_count": null,
            "_view_module": "@jupyter-widgets/controls",
            "_view_module_version": "1.5.0",
            "_view_name": "HTMLView",
            "description": "",
            "description_tooltip": null,
            "layout": "IPY_MODEL_a692b131a31e483cb14ec8d3ac2c1aeb",
            "placeholder": "​",
            "style": "IPY_MODEL_d64a8bdc178b488ca5daead6e7ad4507",
            "value": " 9912422/9912422 [00:00&lt;00:00, 42883168.05it/s]"
          }
        },
        "be41b0a7272d475ba9e320051f141619": {
          "model_module": "@jupyter-widgets/base",
          "model_name": "LayoutModel",
          "model_module_version": "1.2.0",
          "state": {
            "_model_module": "@jupyter-widgets/base",
            "_model_module_version": "1.2.0",
            "_model_name": "LayoutModel",
            "_view_count": null,
            "_view_module": "@jupyter-widgets/base",
            "_view_module_version": "1.2.0",
            "_view_name": "LayoutView",
            "align_content": null,
            "align_items": null,
            "align_self": null,
            "border": null,
            "bottom": null,
            "display": null,
            "flex": null,
            "flex_flow": null,
            "grid_area": null,
            "grid_auto_columns": null,
            "grid_auto_flow": null,
            "grid_auto_rows": null,
            "grid_column": null,
            "grid_gap": null,
            "grid_row": null,
            "grid_template_areas": null,
            "grid_template_columns": null,
            "grid_template_rows": null,
            "height": null,
            "justify_content": null,
            "justify_items": null,
            "left": null,
            "margin": null,
            "max_height": null,
            "max_width": null,
            "min_height": null,
            "min_width": null,
            "object_fit": null,
            "object_position": null,
            "order": null,
            "overflow": null,
            "overflow_x": null,
            "overflow_y": null,
            "padding": null,
            "right": null,
            "top": null,
            "visibility": null,
            "width": null
          }
        },
        "fda5e28d7b29430db38989d4dcf1fddb": {
          "model_module": "@jupyter-widgets/base",
          "model_name": "LayoutModel",
          "model_module_version": "1.2.0",
          "state": {
            "_model_module": "@jupyter-widgets/base",
            "_model_module_version": "1.2.0",
            "_model_name": "LayoutModel",
            "_view_count": null,
            "_view_module": "@jupyter-widgets/base",
            "_view_module_version": "1.2.0",
            "_view_name": "LayoutView",
            "align_content": null,
            "align_items": null,
            "align_self": null,
            "border": null,
            "bottom": null,
            "display": null,
            "flex": null,
            "flex_flow": null,
            "grid_area": null,
            "grid_auto_columns": null,
            "grid_auto_flow": null,
            "grid_auto_rows": null,
            "grid_column": null,
            "grid_gap": null,
            "grid_row": null,
            "grid_template_areas": null,
            "grid_template_columns": null,
            "grid_template_rows": null,
            "height": null,
            "justify_content": null,
            "justify_items": null,
            "left": null,
            "margin": null,
            "max_height": null,
            "max_width": null,
            "min_height": null,
            "min_width": null,
            "object_fit": null,
            "object_position": null,
            "order": null,
            "overflow": null,
            "overflow_x": null,
            "overflow_y": null,
            "padding": null,
            "right": null,
            "top": null,
            "visibility": null,
            "width": null
          }
        },
        "ca25c61715644d7abce7b243100a95ce": {
          "model_module": "@jupyter-widgets/controls",
          "model_name": "DescriptionStyleModel",
          "model_module_version": "1.5.0",
          "state": {
            "_model_module": "@jupyter-widgets/controls",
            "_model_module_version": "1.5.0",
            "_model_name": "DescriptionStyleModel",
            "_view_count": null,
            "_view_module": "@jupyter-widgets/base",
            "_view_module_version": "1.2.0",
            "_view_name": "StyleView",
            "description_width": ""
          }
        },
        "75b4d545593e4faea51c16abf0a431b5": {
          "model_module": "@jupyter-widgets/base",
          "model_name": "LayoutModel",
          "model_module_version": "1.2.0",
          "state": {
            "_model_module": "@jupyter-widgets/base",
            "_model_module_version": "1.2.0",
            "_model_name": "LayoutModel",
            "_view_count": null,
            "_view_module": "@jupyter-widgets/base",
            "_view_module_version": "1.2.0",
            "_view_name": "LayoutView",
            "align_content": null,
            "align_items": null,
            "align_self": null,
            "border": null,
            "bottom": null,
            "display": null,
            "flex": null,
            "flex_flow": null,
            "grid_area": null,
            "grid_auto_columns": null,
            "grid_auto_flow": null,
            "grid_auto_rows": null,
            "grid_column": null,
            "grid_gap": null,
            "grid_row": null,
            "grid_template_areas": null,
            "grid_template_columns": null,
            "grid_template_rows": null,
            "height": null,
            "justify_content": null,
            "justify_items": null,
            "left": null,
            "margin": null,
            "max_height": null,
            "max_width": null,
            "min_height": null,
            "min_width": null,
            "object_fit": null,
            "object_position": null,
            "order": null,
            "overflow": null,
            "overflow_x": null,
            "overflow_y": null,
            "padding": null,
            "right": null,
            "top": null,
            "visibility": null,
            "width": null
          }
        },
        "cb9e0368012448769bcf6d0568ed62db": {
          "model_module": "@jupyter-widgets/controls",
          "model_name": "ProgressStyleModel",
          "model_module_version": "1.5.0",
          "state": {
            "_model_module": "@jupyter-widgets/controls",
            "_model_module_version": "1.5.0",
            "_model_name": "ProgressStyleModel",
            "_view_count": null,
            "_view_module": "@jupyter-widgets/base",
            "_view_module_version": "1.2.0",
            "_view_name": "StyleView",
            "bar_color": null,
            "description_width": ""
          }
        },
        "a692b131a31e483cb14ec8d3ac2c1aeb": {
          "model_module": "@jupyter-widgets/base",
          "model_name": "LayoutModel",
          "model_module_version": "1.2.0",
          "state": {
            "_model_module": "@jupyter-widgets/base",
            "_model_module_version": "1.2.0",
            "_model_name": "LayoutModel",
            "_view_count": null,
            "_view_module": "@jupyter-widgets/base",
            "_view_module_version": "1.2.0",
            "_view_name": "LayoutView",
            "align_content": null,
            "align_items": null,
            "align_self": null,
            "border": null,
            "bottom": null,
            "display": null,
            "flex": null,
            "flex_flow": null,
            "grid_area": null,
            "grid_auto_columns": null,
            "grid_auto_flow": null,
            "grid_auto_rows": null,
            "grid_column": null,
            "grid_gap": null,
            "grid_row": null,
            "grid_template_areas": null,
            "grid_template_columns": null,
            "grid_template_rows": null,
            "height": null,
            "justify_content": null,
            "justify_items": null,
            "left": null,
            "margin": null,
            "max_height": null,
            "max_width": null,
            "min_height": null,
            "min_width": null,
            "object_fit": null,
            "object_position": null,
            "order": null,
            "overflow": null,
            "overflow_x": null,
            "overflow_y": null,
            "padding": null,
            "right": null,
            "top": null,
            "visibility": null,
            "width": null
          }
        },
        "d64a8bdc178b488ca5daead6e7ad4507": {
          "model_module": "@jupyter-widgets/controls",
          "model_name": "DescriptionStyleModel",
          "model_module_version": "1.5.0",
          "state": {
            "_model_module": "@jupyter-widgets/controls",
            "_model_module_version": "1.5.0",
            "_model_name": "DescriptionStyleModel",
            "_view_count": null,
            "_view_module": "@jupyter-widgets/base",
            "_view_module_version": "1.2.0",
            "_view_name": "StyleView",
            "description_width": ""
          }
        },
        "179d7d3ec9e049549d73e0b6b7f5b480": {
          "model_module": "@jupyter-widgets/controls",
          "model_name": "HBoxModel",
          "model_module_version": "1.5.0",
          "state": {
            "_dom_classes": [],
            "_model_module": "@jupyter-widgets/controls",
            "_model_module_version": "1.5.0",
            "_model_name": "HBoxModel",
            "_view_count": null,
            "_view_module": "@jupyter-widgets/controls",
            "_view_module_version": "1.5.0",
            "_view_name": "HBoxView",
            "box_style": "",
            "children": [
              "IPY_MODEL_68ec97449ebe40c59fc02d4ad49820fc",
              "IPY_MODEL_317f28c18af440198c004dc46db5b8ab",
              "IPY_MODEL_a19c9cc441b5490ca022ab563a586738"
            ],
            "layout": "IPY_MODEL_0de9022fd5154299baea984399181202"
          }
        },
        "68ec97449ebe40c59fc02d4ad49820fc": {
          "model_module": "@jupyter-widgets/controls",
          "model_name": "HTMLModel",
          "model_module_version": "1.5.0",
          "state": {
            "_dom_classes": [],
            "_model_module": "@jupyter-widgets/controls",
            "_model_module_version": "1.5.0",
            "_model_name": "HTMLModel",
            "_view_count": null,
            "_view_module": "@jupyter-widgets/controls",
            "_view_module_version": "1.5.0",
            "_view_name": "HTMLView",
            "description": "",
            "description_tooltip": null,
            "layout": "IPY_MODEL_f42d941bc90b46f2a6e8f7b583c0cb66",
            "placeholder": "​",
            "style": "IPY_MODEL_c0e73d3e61dc4ae291a863fcb966df91",
            "value": "100%"
          }
        },
        "317f28c18af440198c004dc46db5b8ab": {
          "model_module": "@jupyter-widgets/controls",
          "model_name": "FloatProgressModel",
          "model_module_version": "1.5.0",
          "state": {
            "_dom_classes": [],
            "_model_module": "@jupyter-widgets/controls",
            "_model_module_version": "1.5.0",
            "_model_name": "FloatProgressModel",
            "_view_count": null,
            "_view_module": "@jupyter-widgets/controls",
            "_view_module_version": "1.5.0",
            "_view_name": "ProgressView",
            "bar_style": "success",
            "description": "",
            "description_tooltip": null,
            "layout": "IPY_MODEL_1859c6f479cd44a990f8f8503edb4428",
            "max": 28881,
            "min": 0,
            "orientation": "horizontal",
            "style": "IPY_MODEL_32b4d36bfd0a4f9b86098b7452fbd021",
            "value": 28881
          }
        },
        "a19c9cc441b5490ca022ab563a586738": {
          "model_module": "@jupyter-widgets/controls",
          "model_name": "HTMLModel",
          "model_module_version": "1.5.0",
          "state": {
            "_dom_classes": [],
            "_model_module": "@jupyter-widgets/controls",
            "_model_module_version": "1.5.0",
            "_model_name": "HTMLModel",
            "_view_count": null,
            "_view_module": "@jupyter-widgets/controls",
            "_view_module_version": "1.5.0",
            "_view_name": "HTMLView",
            "description": "",
            "description_tooltip": null,
            "layout": "IPY_MODEL_cd8425f96a434048aa96d44bc514147a",
            "placeholder": "​",
            "style": "IPY_MODEL_d7b56feea0de4ec0859463dfe26ec151",
            "value": " 28881/28881 [00:00&lt;00:00, 2130495.16it/s]"
          }
        },
        "0de9022fd5154299baea984399181202": {
          "model_module": "@jupyter-widgets/base",
          "model_name": "LayoutModel",
          "model_module_version": "1.2.0",
          "state": {
            "_model_module": "@jupyter-widgets/base",
            "_model_module_version": "1.2.0",
            "_model_name": "LayoutModel",
            "_view_count": null,
            "_view_module": "@jupyter-widgets/base",
            "_view_module_version": "1.2.0",
            "_view_name": "LayoutView",
            "align_content": null,
            "align_items": null,
            "align_self": null,
            "border": null,
            "bottom": null,
            "display": null,
            "flex": null,
            "flex_flow": null,
            "grid_area": null,
            "grid_auto_columns": null,
            "grid_auto_flow": null,
            "grid_auto_rows": null,
            "grid_column": null,
            "grid_gap": null,
            "grid_row": null,
            "grid_template_areas": null,
            "grid_template_columns": null,
            "grid_template_rows": null,
            "height": null,
            "justify_content": null,
            "justify_items": null,
            "left": null,
            "margin": null,
            "max_height": null,
            "max_width": null,
            "min_height": null,
            "min_width": null,
            "object_fit": null,
            "object_position": null,
            "order": null,
            "overflow": null,
            "overflow_x": null,
            "overflow_y": null,
            "padding": null,
            "right": null,
            "top": null,
            "visibility": null,
            "width": null
          }
        },
        "f42d941bc90b46f2a6e8f7b583c0cb66": {
          "model_module": "@jupyter-widgets/base",
          "model_name": "LayoutModel",
          "model_module_version": "1.2.0",
          "state": {
            "_model_module": "@jupyter-widgets/base",
            "_model_module_version": "1.2.0",
            "_model_name": "LayoutModel",
            "_view_count": null,
            "_view_module": "@jupyter-widgets/base",
            "_view_module_version": "1.2.0",
            "_view_name": "LayoutView",
            "align_content": null,
            "align_items": null,
            "align_self": null,
            "border": null,
            "bottom": null,
            "display": null,
            "flex": null,
            "flex_flow": null,
            "grid_area": null,
            "grid_auto_columns": null,
            "grid_auto_flow": null,
            "grid_auto_rows": null,
            "grid_column": null,
            "grid_gap": null,
            "grid_row": null,
            "grid_template_areas": null,
            "grid_template_columns": null,
            "grid_template_rows": null,
            "height": null,
            "justify_content": null,
            "justify_items": null,
            "left": null,
            "margin": null,
            "max_height": null,
            "max_width": null,
            "min_height": null,
            "min_width": null,
            "object_fit": null,
            "object_position": null,
            "order": null,
            "overflow": null,
            "overflow_x": null,
            "overflow_y": null,
            "padding": null,
            "right": null,
            "top": null,
            "visibility": null,
            "width": null
          }
        },
        "c0e73d3e61dc4ae291a863fcb966df91": {
          "model_module": "@jupyter-widgets/controls",
          "model_name": "DescriptionStyleModel",
          "model_module_version": "1.5.0",
          "state": {
            "_model_module": "@jupyter-widgets/controls",
            "_model_module_version": "1.5.0",
            "_model_name": "DescriptionStyleModel",
            "_view_count": null,
            "_view_module": "@jupyter-widgets/base",
            "_view_module_version": "1.2.0",
            "_view_name": "StyleView",
            "description_width": ""
          }
        },
        "1859c6f479cd44a990f8f8503edb4428": {
          "model_module": "@jupyter-widgets/base",
          "model_name": "LayoutModel",
          "model_module_version": "1.2.0",
          "state": {
            "_model_module": "@jupyter-widgets/base",
            "_model_module_version": "1.2.0",
            "_model_name": "LayoutModel",
            "_view_count": null,
            "_view_module": "@jupyter-widgets/base",
            "_view_module_version": "1.2.0",
            "_view_name": "LayoutView",
            "align_content": null,
            "align_items": null,
            "align_self": null,
            "border": null,
            "bottom": null,
            "display": null,
            "flex": null,
            "flex_flow": null,
            "grid_area": null,
            "grid_auto_columns": null,
            "grid_auto_flow": null,
            "grid_auto_rows": null,
            "grid_column": null,
            "grid_gap": null,
            "grid_row": null,
            "grid_template_areas": null,
            "grid_template_columns": null,
            "grid_template_rows": null,
            "height": null,
            "justify_content": null,
            "justify_items": null,
            "left": null,
            "margin": null,
            "max_height": null,
            "max_width": null,
            "min_height": null,
            "min_width": null,
            "object_fit": null,
            "object_position": null,
            "order": null,
            "overflow": null,
            "overflow_x": null,
            "overflow_y": null,
            "padding": null,
            "right": null,
            "top": null,
            "visibility": null,
            "width": null
          }
        },
        "32b4d36bfd0a4f9b86098b7452fbd021": {
          "model_module": "@jupyter-widgets/controls",
          "model_name": "ProgressStyleModel",
          "model_module_version": "1.5.0",
          "state": {
            "_model_module": "@jupyter-widgets/controls",
            "_model_module_version": "1.5.0",
            "_model_name": "ProgressStyleModel",
            "_view_count": null,
            "_view_module": "@jupyter-widgets/base",
            "_view_module_version": "1.2.0",
            "_view_name": "StyleView",
            "bar_color": null,
            "description_width": ""
          }
        },
        "cd8425f96a434048aa96d44bc514147a": {
          "model_module": "@jupyter-widgets/base",
          "model_name": "LayoutModel",
          "model_module_version": "1.2.0",
          "state": {
            "_model_module": "@jupyter-widgets/base",
            "_model_module_version": "1.2.0",
            "_model_name": "LayoutModel",
            "_view_count": null,
            "_view_module": "@jupyter-widgets/base",
            "_view_module_version": "1.2.0",
            "_view_name": "LayoutView",
            "align_content": null,
            "align_items": null,
            "align_self": null,
            "border": null,
            "bottom": null,
            "display": null,
            "flex": null,
            "flex_flow": null,
            "grid_area": null,
            "grid_auto_columns": null,
            "grid_auto_flow": null,
            "grid_auto_rows": null,
            "grid_column": null,
            "grid_gap": null,
            "grid_row": null,
            "grid_template_areas": null,
            "grid_template_columns": null,
            "grid_template_rows": null,
            "height": null,
            "justify_content": null,
            "justify_items": null,
            "left": null,
            "margin": null,
            "max_height": null,
            "max_width": null,
            "min_height": null,
            "min_width": null,
            "object_fit": null,
            "object_position": null,
            "order": null,
            "overflow": null,
            "overflow_x": null,
            "overflow_y": null,
            "padding": null,
            "right": null,
            "top": null,
            "visibility": null,
            "width": null
          }
        },
        "d7b56feea0de4ec0859463dfe26ec151": {
          "model_module": "@jupyter-widgets/controls",
          "model_name": "DescriptionStyleModel",
          "model_module_version": "1.5.0",
          "state": {
            "_model_module": "@jupyter-widgets/controls",
            "_model_module_version": "1.5.0",
            "_model_name": "DescriptionStyleModel",
            "_view_count": null,
            "_view_module": "@jupyter-widgets/base",
            "_view_module_version": "1.2.0",
            "_view_name": "StyleView",
            "description_width": ""
          }
        },
        "931d290c662448068230fb7d0b396c43": {
          "model_module": "@jupyter-widgets/controls",
          "model_name": "HBoxModel",
          "model_module_version": "1.5.0",
          "state": {
            "_dom_classes": [],
            "_model_module": "@jupyter-widgets/controls",
            "_model_module_version": "1.5.0",
            "_model_name": "HBoxModel",
            "_view_count": null,
            "_view_module": "@jupyter-widgets/controls",
            "_view_module_version": "1.5.0",
            "_view_name": "HBoxView",
            "box_style": "",
            "children": [
              "IPY_MODEL_a409be54b1294423a59e38fb32a2980b",
              "IPY_MODEL_d06d88e3e3194fc88273743650eb8945",
              "IPY_MODEL_419e50109b7d416ba58114af2a55f68c"
            ],
            "layout": "IPY_MODEL_6cee75bdc5134fd0ad7a1f04547a711c"
          }
        },
        "a409be54b1294423a59e38fb32a2980b": {
          "model_module": "@jupyter-widgets/controls",
          "model_name": "HTMLModel",
          "model_module_version": "1.5.0",
          "state": {
            "_dom_classes": [],
            "_model_module": "@jupyter-widgets/controls",
            "_model_module_version": "1.5.0",
            "_model_name": "HTMLModel",
            "_view_count": null,
            "_view_module": "@jupyter-widgets/controls",
            "_view_module_version": "1.5.0",
            "_view_name": "HTMLView",
            "description": "",
            "description_tooltip": null,
            "layout": "IPY_MODEL_064b0d2f78554296b13d95ae123902f3",
            "placeholder": "​",
            "style": "IPY_MODEL_70b87900b2d9425fafdf50ea051c59f7",
            "value": "100%"
          }
        },
        "d06d88e3e3194fc88273743650eb8945": {
          "model_module": "@jupyter-widgets/controls",
          "model_name": "FloatProgressModel",
          "model_module_version": "1.5.0",
          "state": {
            "_dom_classes": [],
            "_model_module": "@jupyter-widgets/controls",
            "_model_module_version": "1.5.0",
            "_model_name": "FloatProgressModel",
            "_view_count": null,
            "_view_module": "@jupyter-widgets/controls",
            "_view_module_version": "1.5.0",
            "_view_name": "ProgressView",
            "bar_style": "success",
            "description": "",
            "description_tooltip": null,
            "layout": "IPY_MODEL_3e35b18f95934fcdad313e4bccefc3b0",
            "max": 1648877,
            "min": 0,
            "orientation": "horizontal",
            "style": "IPY_MODEL_9f27fecdf1d347e59333ff4e1f8c1cd6",
            "value": 1648877
          }
        },
        "419e50109b7d416ba58114af2a55f68c": {
          "model_module": "@jupyter-widgets/controls",
          "model_name": "HTMLModel",
          "model_module_version": "1.5.0",
          "state": {
            "_dom_classes": [],
            "_model_module": "@jupyter-widgets/controls",
            "_model_module_version": "1.5.0",
            "_model_name": "HTMLModel",
            "_view_count": null,
            "_view_module": "@jupyter-widgets/controls",
            "_view_module_version": "1.5.0",
            "_view_name": "HTMLView",
            "description": "",
            "description_tooltip": null,
            "layout": "IPY_MODEL_6b24c6a12a9145949268f38f42a6033d",
            "placeholder": "​",
            "style": "IPY_MODEL_5a83b795e1de468bae9ca33b3c5c3a86",
            "value": " 1648877/1648877 [00:00&lt;00:00, 47994027.69it/s]"
          }
        },
        "6cee75bdc5134fd0ad7a1f04547a711c": {
          "model_module": "@jupyter-widgets/base",
          "model_name": "LayoutModel",
          "model_module_version": "1.2.0",
          "state": {
            "_model_module": "@jupyter-widgets/base",
            "_model_module_version": "1.2.0",
            "_model_name": "LayoutModel",
            "_view_count": null,
            "_view_module": "@jupyter-widgets/base",
            "_view_module_version": "1.2.0",
            "_view_name": "LayoutView",
            "align_content": null,
            "align_items": null,
            "align_self": null,
            "border": null,
            "bottom": null,
            "display": null,
            "flex": null,
            "flex_flow": null,
            "grid_area": null,
            "grid_auto_columns": null,
            "grid_auto_flow": null,
            "grid_auto_rows": null,
            "grid_column": null,
            "grid_gap": null,
            "grid_row": null,
            "grid_template_areas": null,
            "grid_template_columns": null,
            "grid_template_rows": null,
            "height": null,
            "justify_content": null,
            "justify_items": null,
            "left": null,
            "margin": null,
            "max_height": null,
            "max_width": null,
            "min_height": null,
            "min_width": null,
            "object_fit": null,
            "object_position": null,
            "order": null,
            "overflow": null,
            "overflow_x": null,
            "overflow_y": null,
            "padding": null,
            "right": null,
            "top": null,
            "visibility": null,
            "width": null
          }
        },
        "064b0d2f78554296b13d95ae123902f3": {
          "model_module": "@jupyter-widgets/base",
          "model_name": "LayoutModel",
          "model_module_version": "1.2.0",
          "state": {
            "_model_module": "@jupyter-widgets/base",
            "_model_module_version": "1.2.0",
            "_model_name": "LayoutModel",
            "_view_count": null,
            "_view_module": "@jupyter-widgets/base",
            "_view_module_version": "1.2.0",
            "_view_name": "LayoutView",
            "align_content": null,
            "align_items": null,
            "align_self": null,
            "border": null,
            "bottom": null,
            "display": null,
            "flex": null,
            "flex_flow": null,
            "grid_area": null,
            "grid_auto_columns": null,
            "grid_auto_flow": null,
            "grid_auto_rows": null,
            "grid_column": null,
            "grid_gap": null,
            "grid_row": null,
            "grid_template_areas": null,
            "grid_template_columns": null,
            "grid_template_rows": null,
            "height": null,
            "justify_content": null,
            "justify_items": null,
            "left": null,
            "margin": null,
            "max_height": null,
            "max_width": null,
            "min_height": null,
            "min_width": null,
            "object_fit": null,
            "object_position": null,
            "order": null,
            "overflow": null,
            "overflow_x": null,
            "overflow_y": null,
            "padding": null,
            "right": null,
            "top": null,
            "visibility": null,
            "width": null
          }
        },
        "70b87900b2d9425fafdf50ea051c59f7": {
          "model_module": "@jupyter-widgets/controls",
          "model_name": "DescriptionStyleModel",
          "model_module_version": "1.5.0",
          "state": {
            "_model_module": "@jupyter-widgets/controls",
            "_model_module_version": "1.5.0",
            "_model_name": "DescriptionStyleModel",
            "_view_count": null,
            "_view_module": "@jupyter-widgets/base",
            "_view_module_version": "1.2.0",
            "_view_name": "StyleView",
            "description_width": ""
          }
        },
        "3e35b18f95934fcdad313e4bccefc3b0": {
          "model_module": "@jupyter-widgets/base",
          "model_name": "LayoutModel",
          "model_module_version": "1.2.0",
          "state": {
            "_model_module": "@jupyter-widgets/base",
            "_model_module_version": "1.2.0",
            "_model_name": "LayoutModel",
            "_view_count": null,
            "_view_module": "@jupyter-widgets/base",
            "_view_module_version": "1.2.0",
            "_view_name": "LayoutView",
            "align_content": null,
            "align_items": null,
            "align_self": null,
            "border": null,
            "bottom": null,
            "display": null,
            "flex": null,
            "flex_flow": null,
            "grid_area": null,
            "grid_auto_columns": null,
            "grid_auto_flow": null,
            "grid_auto_rows": null,
            "grid_column": null,
            "grid_gap": null,
            "grid_row": null,
            "grid_template_areas": null,
            "grid_template_columns": null,
            "grid_template_rows": null,
            "height": null,
            "justify_content": null,
            "justify_items": null,
            "left": null,
            "margin": null,
            "max_height": null,
            "max_width": null,
            "min_height": null,
            "min_width": null,
            "object_fit": null,
            "object_position": null,
            "order": null,
            "overflow": null,
            "overflow_x": null,
            "overflow_y": null,
            "padding": null,
            "right": null,
            "top": null,
            "visibility": null,
            "width": null
          }
        },
        "9f27fecdf1d347e59333ff4e1f8c1cd6": {
          "model_module": "@jupyter-widgets/controls",
          "model_name": "ProgressStyleModel",
          "model_module_version": "1.5.0",
          "state": {
            "_model_module": "@jupyter-widgets/controls",
            "_model_module_version": "1.5.0",
            "_model_name": "ProgressStyleModel",
            "_view_count": null,
            "_view_module": "@jupyter-widgets/base",
            "_view_module_version": "1.2.0",
            "_view_name": "StyleView",
            "bar_color": null,
            "description_width": ""
          }
        },
        "6b24c6a12a9145949268f38f42a6033d": {
          "model_module": "@jupyter-widgets/base",
          "model_name": "LayoutModel",
          "model_module_version": "1.2.0",
          "state": {
            "_model_module": "@jupyter-widgets/base",
            "_model_module_version": "1.2.0",
            "_model_name": "LayoutModel",
            "_view_count": null,
            "_view_module": "@jupyter-widgets/base",
            "_view_module_version": "1.2.0",
            "_view_name": "LayoutView",
            "align_content": null,
            "align_items": null,
            "align_self": null,
            "border": null,
            "bottom": null,
            "display": null,
            "flex": null,
            "flex_flow": null,
            "grid_area": null,
            "grid_auto_columns": null,
            "grid_auto_flow": null,
            "grid_auto_rows": null,
            "grid_column": null,
            "grid_gap": null,
            "grid_row": null,
            "grid_template_areas": null,
            "grid_template_columns": null,
            "grid_template_rows": null,
            "height": null,
            "justify_content": null,
            "justify_items": null,
            "left": null,
            "margin": null,
            "max_height": null,
            "max_width": null,
            "min_height": null,
            "min_width": null,
            "object_fit": null,
            "object_position": null,
            "order": null,
            "overflow": null,
            "overflow_x": null,
            "overflow_y": null,
            "padding": null,
            "right": null,
            "top": null,
            "visibility": null,
            "width": null
          }
        },
        "5a83b795e1de468bae9ca33b3c5c3a86": {
          "model_module": "@jupyter-widgets/controls",
          "model_name": "DescriptionStyleModel",
          "model_module_version": "1.5.0",
          "state": {
            "_model_module": "@jupyter-widgets/controls",
            "_model_module_version": "1.5.0",
            "_model_name": "DescriptionStyleModel",
            "_view_count": null,
            "_view_module": "@jupyter-widgets/base",
            "_view_module_version": "1.2.0",
            "_view_name": "StyleView",
            "description_width": ""
          }
        },
        "c30d4331388247d09f24176b83581fa3": {
          "model_module": "@jupyter-widgets/controls",
          "model_name": "HBoxModel",
          "model_module_version": "1.5.0",
          "state": {
            "_dom_classes": [],
            "_model_module": "@jupyter-widgets/controls",
            "_model_module_version": "1.5.0",
            "_model_name": "HBoxModel",
            "_view_count": null,
            "_view_module": "@jupyter-widgets/controls",
            "_view_module_version": "1.5.0",
            "_view_name": "HBoxView",
            "box_style": "",
            "children": [
              "IPY_MODEL_3fc21792b7194cf69f8c31228fe734b0",
              "IPY_MODEL_f69df76609a94a40b7dff04c52004b6e",
              "IPY_MODEL_46b54279a18c49d9b0d9131a7f912eb0"
            ],
            "layout": "IPY_MODEL_10d73d11ad6a4073967445996dcb5d51"
          }
        },
        "3fc21792b7194cf69f8c31228fe734b0": {
          "model_module": "@jupyter-widgets/controls",
          "model_name": "HTMLModel",
          "model_module_version": "1.5.0",
          "state": {
            "_dom_classes": [],
            "_model_module": "@jupyter-widgets/controls",
            "_model_module_version": "1.5.0",
            "_model_name": "HTMLModel",
            "_view_count": null,
            "_view_module": "@jupyter-widgets/controls",
            "_view_module_version": "1.5.0",
            "_view_name": "HTMLView",
            "description": "",
            "description_tooltip": null,
            "layout": "IPY_MODEL_21dca921bf904f8e927e856dddff3b72",
            "placeholder": "​",
            "style": "IPY_MODEL_dab26c7b2fe44a208b8232be20333b17",
            "value": "100%"
          }
        },
        "f69df76609a94a40b7dff04c52004b6e": {
          "model_module": "@jupyter-widgets/controls",
          "model_name": "FloatProgressModel",
          "model_module_version": "1.5.0",
          "state": {
            "_dom_classes": [],
            "_model_module": "@jupyter-widgets/controls",
            "_model_module_version": "1.5.0",
            "_model_name": "FloatProgressModel",
            "_view_count": null,
            "_view_module": "@jupyter-widgets/controls",
            "_view_module_version": "1.5.0",
            "_view_name": "ProgressView",
            "bar_style": "success",
            "description": "",
            "description_tooltip": null,
            "layout": "IPY_MODEL_64ee1b989c6344cd9b8b39a10346ecd9",
            "max": 4542,
            "min": 0,
            "orientation": "horizontal",
            "style": "IPY_MODEL_7b93fbb0650a4dab9d16daba178f5469",
            "value": 4542
          }
        },
        "46b54279a18c49d9b0d9131a7f912eb0": {
          "model_module": "@jupyter-widgets/controls",
          "model_name": "HTMLModel",
          "model_module_version": "1.5.0",
          "state": {
            "_dom_classes": [],
            "_model_module": "@jupyter-widgets/controls",
            "_model_module_version": "1.5.0",
            "_model_name": "HTMLModel",
            "_view_count": null,
            "_view_module": "@jupyter-widgets/controls",
            "_view_module_version": "1.5.0",
            "_view_name": "HTMLView",
            "description": "",
            "description_tooltip": null,
            "layout": "IPY_MODEL_82bd3af90bc543c6afe81da399c69e49",
            "placeholder": "​",
            "style": "IPY_MODEL_f5d43877693d4a6aa7993fb71172aaa7",
            "value": " 4542/4542 [00:00&lt;00:00, 279472.59it/s]"
          }
        },
        "10d73d11ad6a4073967445996dcb5d51": {
          "model_module": "@jupyter-widgets/base",
          "model_name": "LayoutModel",
          "model_module_version": "1.2.0",
          "state": {
            "_model_module": "@jupyter-widgets/base",
            "_model_module_version": "1.2.0",
            "_model_name": "LayoutModel",
            "_view_count": null,
            "_view_module": "@jupyter-widgets/base",
            "_view_module_version": "1.2.0",
            "_view_name": "LayoutView",
            "align_content": null,
            "align_items": null,
            "align_self": null,
            "border": null,
            "bottom": null,
            "display": null,
            "flex": null,
            "flex_flow": null,
            "grid_area": null,
            "grid_auto_columns": null,
            "grid_auto_flow": null,
            "grid_auto_rows": null,
            "grid_column": null,
            "grid_gap": null,
            "grid_row": null,
            "grid_template_areas": null,
            "grid_template_columns": null,
            "grid_template_rows": null,
            "height": null,
            "justify_content": null,
            "justify_items": null,
            "left": null,
            "margin": null,
            "max_height": null,
            "max_width": null,
            "min_height": null,
            "min_width": null,
            "object_fit": null,
            "object_position": null,
            "order": null,
            "overflow": null,
            "overflow_x": null,
            "overflow_y": null,
            "padding": null,
            "right": null,
            "top": null,
            "visibility": null,
            "width": null
          }
        },
        "21dca921bf904f8e927e856dddff3b72": {
          "model_module": "@jupyter-widgets/base",
          "model_name": "LayoutModel",
          "model_module_version": "1.2.0",
          "state": {
            "_model_module": "@jupyter-widgets/base",
            "_model_module_version": "1.2.0",
            "_model_name": "LayoutModel",
            "_view_count": null,
            "_view_module": "@jupyter-widgets/base",
            "_view_module_version": "1.2.0",
            "_view_name": "LayoutView",
            "align_content": null,
            "align_items": null,
            "align_self": null,
            "border": null,
            "bottom": null,
            "display": null,
            "flex": null,
            "flex_flow": null,
            "grid_area": null,
            "grid_auto_columns": null,
            "grid_auto_flow": null,
            "grid_auto_rows": null,
            "grid_column": null,
            "grid_gap": null,
            "grid_row": null,
            "grid_template_areas": null,
            "grid_template_columns": null,
            "grid_template_rows": null,
            "height": null,
            "justify_content": null,
            "justify_items": null,
            "left": null,
            "margin": null,
            "max_height": null,
            "max_width": null,
            "min_height": null,
            "min_width": null,
            "object_fit": null,
            "object_position": null,
            "order": null,
            "overflow": null,
            "overflow_x": null,
            "overflow_y": null,
            "padding": null,
            "right": null,
            "top": null,
            "visibility": null,
            "width": null
          }
        },
        "dab26c7b2fe44a208b8232be20333b17": {
          "model_module": "@jupyter-widgets/controls",
          "model_name": "DescriptionStyleModel",
          "model_module_version": "1.5.0",
          "state": {
            "_model_module": "@jupyter-widgets/controls",
            "_model_module_version": "1.5.0",
            "_model_name": "DescriptionStyleModel",
            "_view_count": null,
            "_view_module": "@jupyter-widgets/base",
            "_view_module_version": "1.2.0",
            "_view_name": "StyleView",
            "description_width": ""
          }
        },
        "64ee1b989c6344cd9b8b39a10346ecd9": {
          "model_module": "@jupyter-widgets/base",
          "model_name": "LayoutModel",
          "model_module_version": "1.2.0",
          "state": {
            "_model_module": "@jupyter-widgets/base",
            "_model_module_version": "1.2.0",
            "_model_name": "LayoutModel",
            "_view_count": null,
            "_view_module": "@jupyter-widgets/base",
            "_view_module_version": "1.2.0",
            "_view_name": "LayoutView",
            "align_content": null,
            "align_items": null,
            "align_self": null,
            "border": null,
            "bottom": null,
            "display": null,
            "flex": null,
            "flex_flow": null,
            "grid_area": null,
            "grid_auto_columns": null,
            "grid_auto_flow": null,
            "grid_auto_rows": null,
            "grid_column": null,
            "grid_gap": null,
            "grid_row": null,
            "grid_template_areas": null,
            "grid_template_columns": null,
            "grid_template_rows": null,
            "height": null,
            "justify_content": null,
            "justify_items": null,
            "left": null,
            "margin": null,
            "max_height": null,
            "max_width": null,
            "min_height": null,
            "min_width": null,
            "object_fit": null,
            "object_position": null,
            "order": null,
            "overflow": null,
            "overflow_x": null,
            "overflow_y": null,
            "padding": null,
            "right": null,
            "top": null,
            "visibility": null,
            "width": null
          }
        },
        "7b93fbb0650a4dab9d16daba178f5469": {
          "model_module": "@jupyter-widgets/controls",
          "model_name": "ProgressStyleModel",
          "model_module_version": "1.5.0",
          "state": {
            "_model_module": "@jupyter-widgets/controls",
            "_model_module_version": "1.5.0",
            "_model_name": "ProgressStyleModel",
            "_view_count": null,
            "_view_module": "@jupyter-widgets/base",
            "_view_module_version": "1.2.0",
            "_view_name": "StyleView",
            "bar_color": null,
            "description_width": ""
          }
        },
        "82bd3af90bc543c6afe81da399c69e49": {
          "model_module": "@jupyter-widgets/base",
          "model_name": "LayoutModel",
          "model_module_version": "1.2.0",
          "state": {
            "_model_module": "@jupyter-widgets/base",
            "_model_module_version": "1.2.0",
            "_model_name": "LayoutModel",
            "_view_count": null,
            "_view_module": "@jupyter-widgets/base",
            "_view_module_version": "1.2.0",
            "_view_name": "LayoutView",
            "align_content": null,
            "align_items": null,
            "align_self": null,
            "border": null,
            "bottom": null,
            "display": null,
            "flex": null,
            "flex_flow": null,
            "grid_area": null,
            "grid_auto_columns": null,
            "grid_auto_flow": null,
            "grid_auto_rows": null,
            "grid_column": null,
            "grid_gap": null,
            "grid_row": null,
            "grid_template_areas": null,
            "grid_template_columns": null,
            "grid_template_rows": null,
            "height": null,
            "justify_content": null,
            "justify_items": null,
            "left": null,
            "margin": null,
            "max_height": null,
            "max_width": null,
            "min_height": null,
            "min_width": null,
            "object_fit": null,
            "object_position": null,
            "order": null,
            "overflow": null,
            "overflow_x": null,
            "overflow_y": null,
            "padding": null,
            "right": null,
            "top": null,
            "visibility": null,
            "width": null
          }
        },
        "f5d43877693d4a6aa7993fb71172aaa7": {
          "model_module": "@jupyter-widgets/controls",
          "model_name": "DescriptionStyleModel",
          "model_module_version": "1.5.0",
          "state": {
            "_model_module": "@jupyter-widgets/controls",
            "_model_module_version": "1.5.0",
            "_model_name": "DescriptionStyleModel",
            "_view_count": null,
            "_view_module": "@jupyter-widgets/base",
            "_view_module_version": "1.2.0",
            "_view_name": "StyleView",
            "description_width": ""
          }
        }
      }
    }
  },
  "nbformat": 4,
  "nbformat_minor": 0
}